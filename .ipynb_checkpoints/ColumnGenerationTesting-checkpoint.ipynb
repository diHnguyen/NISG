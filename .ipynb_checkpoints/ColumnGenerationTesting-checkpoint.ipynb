{
 "cells": [
  {
   "cell_type": "code",
   "execution_count": 27,
   "metadata": {},
   "outputs": [
    {
     "data": {
      "text/plain": [
       "2×100000 Array{Int64,2}:\n",
       " 2   6  10  9  5  4  9  10   1   2  10  …  3  7  3   9  4  8   3  9  1   4  8\n",
       " 3  10   7  6  2  5  9   9  10  10   5     7  7  6  10  5  9  10  2  5  10  5"
      ]
     },
     "execution_count": 27,
     "metadata": {},
     "output_type": "execute_result"
    }
   ],
   "source": [
    "N = 100000\n",
    "A = rand((1:10),(2,N))"
   ]
  },
  {
   "cell_type": "code",
   "execution_count": null,
   "metadata": {},
   "outputs": [],
   "source": [
    "using JuMP\n",
    "using Gurobi\n",
    "using TimerOutputs\n",
    "to = TimerOutput()\n",
    "\n",
    "start = time()\n",
    "gurobi_env = Gurobi.Env()\n",
    "setparams!(gurobi_env, Heuristics=0.0, Cuts = 0, OutputFlag = 0)\n",
    "m = Model(() -> Gurobi.Optimizer(gurobi_env))\n",
    "@variable(m, y[1:N]>=0)\n",
    "@objective(m, Min, y[1])\n",
    "\n",
    "con1 = @constraint(m, A[1,1]* y[1] >= 0)\n",
    "con2 = @constraint(m, A[2,1]* y[1] >= 0)\n",
    "# println(m)\n",
    "for t = 2:N\n",
    "    set_normalized_coefficient(con1, y[t], A[1,t])\n",
    "    set_normalized_coefficient(con2, y[t], A[2,t])\n",
    "    @objective(m, Min, sum(y[l] for l = 1:t))\n",
    "#     println(m)\n",
    "end\n",
    "totalTime = time()-start\n",
    "println(totalTime)"
   ]
  },
  {
   "cell_type": "code",
   "execution_count": null,
   "metadata": {},
   "outputs": [],
   "source": [
    "function MP(t,A)\n",
    "    m = Model(() -> Gurobi.Optimizer(gurobi_env))\n",
    "    @variable(m, y[1:t]>=0)\n",
    "    @objective(m, Min, sum(y[l] for l = 1:t))\n",
    "\n",
    "    con1 = @constraint(m, sum(A[1,l]* y[l] for l=1:t) >= 0)\n",
    "    con2 = @constraint(m, sum(A[2,l]* y[l] for l=1:t) >= 0)\n",
    "end"
   ]
  }
 ],
 "metadata": {
  "kernelspec": {
   "display_name": "Julia 1.0.5",
   "language": "julia",
   "name": "julia-1.0"
  },
  "language_info": {
   "file_extension": ".jl",
   "mimetype": "application/julia",
   "name": "julia",
   "version": "1.0.5"
  }
 },
 "nbformat": 4,
 "nbformat_minor": 4
}
