{
 "cells": [
  {
   "cell_type": "code",
   "execution_count": 146,
   "metadata": {},
   "outputs": [
    {
     "name": "stdout",
     "output_type": "stream",
     "text": [
      "Any[0.356675, 0.510826, 0.693147, 0.916291, 1.20397, 0.916291, 0.693147]\n",
      "Max u\n",
      "Subject to\n",
      " u - logY[1] - logY[4] - logY[6] <= 2.1892564076870427\n",
      " u - logY[1] - logY[5] <= 1.5606477482646683\n",
      " u - logY[2] - logY[6] <= 1.4271163556401456\n",
      " u - logY[3] - logY[7] <= 1.3862943611198906\n",
      " logY[1] >= 0.0\n",
      " logY[2] >= 0.0\n",
      " logY[3] >= 0.0\n",
      " logY[4] >= 0.0\n",
      " logY[5] >= 0.0\n",
      " logY[6] >= 0.0\n",
      " logY[7] >= 0.0\n",
      " u <= 1.0e6\n",
      " logX[1] binary\n",
      " logX[2] binary\n",
      " logX[3] binary\n",
      " logX[4] binary\n",
      " logX[5] binary\n",
      " logX[6] binary\n",
      " logX[7] binary\n",
      "\n",
      "[999999.0, 999999.0, 999999.0, 0.0, 0.0, 0.0, 0.0]\n",
      "Obj = 1.0e6\n"
     ]
    }
   ],
   "source": [
    "#Testing formulation for multiple monitoring (log) and interdiction\n",
    "#Single interdiction\n",
    "\n",
    "using JuMP\n",
    "using Gurobi\n",
    "\n",
    "\n",
    "global arcs = [1 2; 1 3; 1 4; 2 3; 2 5; 3 5; 4 5]\n",
    "global paths = [[1 2 3 5],\n",
    "                [1 2 5],\n",
    "                [1 3 5],\n",
    "                [1 4 5]] \n",
    "\n",
    "global N = collect(1:maximum(arcs))\n",
    "global d = [4,5,10,10,4, 6, 9]\n",
    "global M = [[1,4], [4,7]]\n",
    "# global M = [[1], [4]]\n",
    "global b = 10\n",
    "\n",
    "\n",
    "global sizeM = length(M)\n",
    "global origin = 1\n",
    "global destination = 5 \n",
    "global numArcs = length(arcs[:,1])\n",
    "global numPaths = length(paths)\n",
    "global p = [0.3, 0.4, 0.5, 0.6, 0.7, 0.6, 0.5]\n",
    "global logP = []\n",
    "for i = 1:numArcs\n",
    "   push!(logP, -log(1-p[i])) \n",
    "end\n",
    "\n",
    "println(logP)\n",
    "\n",
    "gurobi_env = Gurobi.Env()\n",
    "setparams!(gurobi_env, Heuristics=0.0, Cuts = 0, OutputFlag = 0)\n",
    "MP = Model(() -> Gurobi.Optimizer(gurobi_env))\n",
    "cons = Array{JuMP.ConstraintRef}(undef, numPaths)\n",
    "@variable(MP, logX[1:numArcs], Bin)\n",
    "@variable(MP, u >= -(10^6))\n",
    "@variable(MP, logY[1:numArcs] <= 0)\n",
    "# @variable(MP, P[1:numPaths])\n",
    "@objective(MP, Min, u)\n",
    "\n",
    "for l = 1:numPaths\n",
    "    myPath = paths[l]\n",
    "    pathL = []\n",
    "    for a = 1:length(myPath)-1\n",
    "        i = myPath[a]\n",
    "        j = myPath[a+1]\n",
    "        temp = findall(arcs[:,1].==i)\n",
    "        for _ind in temp\n",
    "            if j == arcs[_ind,2]\n",
    "               push!(pathL, _ind) \n",
    "            end\n",
    "        end\n",
    "    end\n",
    "    cons[l] = @constraint(MP, u >= sum(logP[a] + logY[a] for a in pathL))\n",
    "end\n",
    "\n",
    "# for n in N\n",
    "#     if n != 1 && n!=5\n",
    "#         incoming = findall(arcs[:,2].==n)\n",
    "#         outgoing = findall(arcs[:,1].==n)\n",
    "#         @constraint(MP, sum(logY[a] for a in outgoing) - sum(logY[a] for a in incoming) == 0)\n",
    "#     end\n",
    "#     if n == 1\n",
    "#         incoming = findall(arcs[:,2].==n)\n",
    "#         outgoing = findall(arcs[:,1].==n)\n",
    "#         @constraint(MP, sum(logY[a] for a in outgoing) - sum(logY[a] for a in incoming) == 0)\n",
    "#     end\n",
    "# end\n",
    "s\n",
    "logP_feas = Any[0.356675, -0.0, -0.0, 0.916291, -0.0, -0.0, -0.0]\n",
    "# logP_feas = Any[0.693147, -0.0, -0.0, 0.693147, -0.0, -0.0, -0.0]\n",
    "# for a = 1:numArcs\n",
    "#     @constraint(MP, logY[a] >= -logP_feas[a])\n",
    "# end\n",
    "for l = 1:numPaths\n",
    "    myPath = paths[l]\n",
    "    pathL = []\n",
    "    for a = 1:length(myPath)-1\n",
    "        i = myPath[a]\n",
    "        j = myPath[a+1]\n",
    "        temp = findall(arcs[:,1].==i)\n",
    "        for _ind in temp\n",
    "            if j == arcs[_ind,2]\n",
    "               push!(pathL, _ind) \n",
    "            end\n",
    "        end\n",
    "    end\n",
    "    @constraint(MP, u >= sum(logP_feas[a] + logY[a] for a in pathL))\n",
    "end\n",
    "\n",
    "# @constraint(MP, sum(d[i]*x[i] for i=1:numArcs) <= b)\n",
    "\n",
    "optimize!(MP)\n",
    "println(MP)\n",
    "# x_now = JuMP.value.(logX)#zeros(arcNum)\n",
    "# println(x_now)\n",
    "y_now = JuMP.value.(logY)\n",
    "println(y_now)\n",
    "u_now = JuMP.value.(u)\n",
    "# println(u_now)\n",
    "# println(value(cons[1]))\n",
    "println(\"Obj = \", JuMP.objective_value.(MP))\n",
    "\n"
   ]
  },
  {
   "cell_type": "code",
   "execution_count": 147,
   "metadata": {
    "scrolled": false
   },
   "outputs": [
    {
     "name": "stdout",
     "output_type": "stream",
     "text": [
      "[999999.0, 999999.0, 999999.0, 0.0, 0.0, 0.0, 0.0]\n",
      "RHS = Any[-Inf, -Inf, -Inf, 0.0, 0.0, 0.0, 0.0]\n"
     ]
    },
    {
     "ename": "ErrorException",
     "evalue": "Expression contains an invalid NaN constant. This could be produced by `Inf - Inf`.",
     "output_type": "error",
     "traceback": [
      "Expression contains an invalid NaN constant. This could be produced by `Inf - Inf`.",
      "",
      "Stacktrace:",
      " [1] error(::String) at .\\error.jl:33",
      " [2] _assert_isfinite(::GenericAffExpr{Float64,VariableRef}) at C:\\Users\\din\\.julia\\packages\\JuMP\\e0Uc2\\src\\aff_expr.jl:333",
      " [3] MathOptInterface.ScalarAffineFunction(::GenericAffExpr{Float64,VariableRef}) at C:\\Users\\din\\.julia\\packages\\JuMP\\e0Uc2\\src\\aff_expr.jl:364",
      " [4] moi_function at C:\\Users\\din\\.julia\\packages\\JuMP\\e0Uc2\\src\\aff_expr.jl:370 [inlined]",
      " [5] moi_function at C:\\Users\\din\\.julia\\packages\\JuMP\\e0Uc2\\src\\constraints.jl:287 [inlined]",
      " [6] add_constraint(::Model, ::ScalarConstraint{GenericAffExpr{Float64,VariableRef},MathOptInterface.GreaterThan{Float64}}, ::String) at C:\\Users\\din\\.julia\\packages\\JuMP\\e0Uc2\\src\\constraints.jl:402",
      " [7] macro expansion at C:\\Users\\din\\.julia\\packages\\JuMP\\e0Uc2\\src\\macros.jl:441 [inlined]",
      " [8] Feasibility(::Array{Float64,1}) at .\\In[147]:32",
      " [9] top-level scope at In[147]:44"
     ]
    }
   ],
   "source": [
    "global A_M = [1 0 0 1 0 0 0;\n",
    "           0 0 0 1 0 0 1]\n",
    "function Feasibility(logY)\n",
    "    println(logY)\n",
    "    global arcs, paths,N, d, M,A_M, b, p,logP,sizeM, origin,destination,numArcs, numPaths \n",
    "    RHS = []\n",
    "    for a = 1:numArcs\n",
    "        push!(RHS, 1-exp(logY[a]))\n",
    "    end\n",
    "    println(\"RHS = \", RHS)\n",
    "    \n",
    "    gurobi_env = Gurobi.Env()\n",
    "    setparams!(gurobi_env, Heuristics=0.0, Cuts = 0, OutputFlag = 0)\n",
    "    SP = Model(() -> Gurobi.Optimizer(gurobi_env))\n",
    "\n",
    "    @variable(SP, x[1:numArcs], Bin)\n",
    "    @variable(SP, y[1:sizeM,1:numArcs], Bin)\n",
    "    @variable(SP, s[1:numArcs] >=0)\n",
    "\n",
    "    @objective(SP, Min, sum(s[a] for a = 1:numArcs) )\n",
    "    \n",
    "#     @constraint(SP, sum(d[a]*x[a] for a = 1:numArcs) <= b)\n",
    "    for m = 1:sizeM\n",
    "        @constraint(SP, sum(d[a]*y[m,a] for a = 1:numArcs) <= b)\n",
    "    \n",
    "    end\n",
    "    \n",
    "    #Monitoring decision:\n",
    "    #[[1,4], [4,7]]\n",
    "    for a = 1:numArcs\n",
    "#         for m = 1:sizeM\n",
    "            @constraint(SP, sum(A_M[m,a]*y[m,a] for m = 1:sizeM) +s[a] >= RHS[a]) #exp(logY[a]))\n",
    "#         end\n",
    "    end\n",
    "    println(SP)\n",
    "    optimize!(SP)\n",
    "    y_now = JuMP.value.(y)\n",
    "    println(\"y = \", y_now)\n",
    "    s_now = JuMP.value.(s)\n",
    "    println(\"s = \", s_now)\n",
    "    println(\"Obj = \", JuMP.objective_value.(SP))\n",
    "    return y_now, s_now\n",
    "end\n",
    "# y_now = \n",
    "y, s = Feasibility(y_now)\n"
   ]
  },
  {
   "cell_type": "code",
   "execution_count": 137,
   "metadata": {},
   "outputs": [
    {
     "data": {
      "text/plain": [
       "1×7 Array{Float64,2}:\n",
       " 0.5  0.0  0.0  0.5  0.0  0.0  0.0"
      ]
     },
     "execution_count": 137,
     "metadata": {},
     "output_type": "execute_result"
    }
   ],
   "source": [
    "y_strategy = [0.5 0.5]\n",
    "# println(y)\n",
    "# p_new = (sum(A_M.*y[1,m] for m = 1:sizeM)#).*p'\n",
    "\n",
    "A_M[1,:] = A_M[1,:].*y[1,:] #*0.5\n",
    "A_M[2,:] = A_M[2,:].*y[2,:] \n",
    "A_M = A_M*0.5\n",
    "p_new = [1 1]*A_M"
   ]
  },
  {
   "cell_type": "code",
   "execution_count": 138,
   "metadata": {},
   "outputs": [],
   "source": [
    "logP_feas = []\n",
    "for i = 1:numArcs\n",
    "   push!(logP_feas, -log(1-p_new[i])) \n",
    "end"
   ]
  },
  {
   "cell_type": "code",
   "execution_count": 139,
   "metadata": {},
   "outputs": [
    {
     "name": "stdout",
     "output_type": "stream",
     "text": [
      "logP_feas = Any[0.693147, -0.0, -0.0, 0.693147, -0.0, -0.0, -0.0]\n"
     ]
    }
   ],
   "source": [
    "println(\"logP_feas = \",logP_feas)"
   ]
  },
  {
   "cell_type": "code",
   "execution_count": null,
   "metadata": {},
   "outputs": [],
   "source": []
  }
 ],
 "metadata": {
  "kernelspec": {
   "display_name": "Julia 1.0.5",
   "language": "julia",
   "name": "julia-1.0"
  },
  "language_info": {
   "file_extension": ".jl",
   "mimetype": "application/julia",
   "name": "julia",
   "version": "1.0.5"
  }
 },
 "nbformat": 4,
 "nbformat_minor": 4
}
