{
 "cells": [
  {
   "cell_type": "code",
   "execution_count": 4,
   "metadata": {},
   "outputs": [],
   "source": [
    "using JuMP \n",
    "using Gurobi\n",
    "using LightGraphs\n",
    "using DataFrames\n",
    "using CSV\n",
    "using TimerOutputs\n"
   ]
  },
  {
   "cell_type": "code",
   "execution_count": 96,
   "metadata": {},
   "outputs": [
    {
     "name": "stdout",
     "output_type": "stream",
     "text": [
      "Academic license - for non-commercial use only\r\n"
     ]
    },
    {
     "data": {
      "text/plain": [
       "2-element Array{Int64,1}:\n",
       " 10\n",
       " 20"
      ]
     },
     "execution_count": 96,
     "metadata": {},
     "output_type": "execute_result"
    }
   ],
   "source": [
    "gurobi_env = Gurobi.Env()\n",
    "to = TimerOutput()\n",
    "myFile = \"./SmallExample.jl\"\n",
    "include(myFile)\n",
    "myFile = \"./shortestPath.jl\"\n",
    "include(myFile)\n",
    "\n",
    "\n",
    "arcs = [1 2; 1 5; 2 3; 2 4; 3 6; 4 7; 5 4; 7 8; 7 10]\n",
    "A = length(arcs[:,1])\n",
    "c = ones(length(arcs))\n",
    "b = 2 \n",
    "# p = ones(T)./T\n",
    "source = 1\n",
    "sink = 10\n",
    "T = [6,7]\n",
    "scenNum = length(T)\n",
    "p = ones(Float64,scenNum)./scenNum\n",
    "v = [10,20]"
   ]
  },
  {
   "cell_type": "code",
   "execution_count": 97,
   "metadata": {},
   "outputs": [
    {
     "name": "stdout",
     "output_type": "stream",
     "text": [
      "1\n"
     ]
    },
    {
     "data": {
      "text/plain": [
       "([1, 0, 0, 1, 0, 1, 0, 0, 1], 4.0, [1, 1, 1, 1, 1, 1, 0, 1, 1], [1, 2, 4, 7, 10], [1.0 0.0 … 0.0 0.0; 1.0 1.0 … 1.0 1.0])"
      ]
     },
     "execution_count": 97,
     "metadata": {},
     "output_type": "execute_result"
    }
   ],
   "source": [
    "destination = sink\n",
    "origin = source\n",
    "x_now = zeros(length(arcs))\n",
    "y, gx, tree, path, y_Set = gx_bound(arcs, A, c, origin, x_now,T,scenNum)"
   ]
  },
  {
   "cell_type": "code",
   "execution_count": 98,
   "metadata": {},
   "outputs": [
    {
     "name": "stdout",
     "output_type": "stream",
     "text": [
      "[1, 1, 2, 2, 3, 4, 7, 7]\n",
      "[2, 5, 3, 4, 6, 7, 8, 10]\n",
      "[1.0 0.0 0.0 1.0 0.0 1.0 0.0 0.0 0.0; 1.0 1.0 1.0 1.0 1.0 1.0 1.0 1.0 1.0]\n"
     ]
    }
   ],
   "source": [
    "println(arcs[:,1][tree.>0])\n",
    "println(arcs[:,2][tree.>0])\n",
    "\n",
    "println(y_Set)"
   ]
  },
  {
   "cell_type": "code",
   "execution_count": 99,
   "metadata": {},
   "outputs": [
    {
     "name": "stdout",
     "output_type": "stream",
     "text": [
      "Min 0.5 z[1] + 0.5 z[2]\n",
      "Subject to\n",
      " x1[4] + x1[6] + x2[1,4] + x2[1,6] - r[1] >= 0.0\n",
      " z[1] + 10 r[1] >= 10.0\n",
      " x1[3] + x1[4] + x1[5] + x1[6] + x1[7] + x1[8] + x1[9] + x2[2,3] + x2[2,4] + x2[2,5] + x2[2,6] + x2[2,7] + x2[2,8] + x2[2,9] - r[2] >= 0.0\n",
      " z[2] + 20 r[2] >= 20.0\n",
      " x1[1] + x1[2] + x1[3] + x1[4] + x1[5] + x1[6] + x1[7] + x1[8] + x1[9] + x2[1,1] + x2[1,2] + x2[1,3] + x2[1,4] + x2[1,5] + x2[1,6] + x2[1,7] + x2[1,8] + x2[1,9] <= 2.0\n",
      " x1[1] + x1[2] + x1[3] + x1[4] + x1[5] + x1[6] + x1[7] + x1[8] + x1[9] + x2[2,1] + x2[2,2] + x2[2,3] + x2[2,4] + x2[2,5] + x2[2,6] + x2[2,7] + x2[2,8] + x2[2,9] <= 2.0\n",
      " z[1] >= 0.0\n",
      " z[2] >= 0.0\n",
      " r[1] >= 0.0\n",
      " r[2] >= 0.0\n",
      " r[1] <= 1.0\n",
      " r[2] <= 1.0\n",
      " x1[1] binary\n",
      " x1[2] binary\n",
      " x1[3] binary\n",
      " x1[4] binary\n",
      " x1[5] binary\n",
      " x1[6] binary\n",
      " x1[7] binary\n",
      " x1[8] binary\n",
      " x1[9] binary\n",
      " x2[1,1] binary\n",
      " x2[2,1] binary\n",
      " x2[1,2] binary\n",
      " x2[2,2] binary\n",
      " x2[1,3] binary\n",
      " x2[2,3] binary\n",
      " x2[1,4] binary\n",
      " x2[2,4] binary\n",
      " x2[1,5] binary\n",
      " x2[2,5] binary\n",
      " x2[1,6] binary\n",
      " x2[2,6] binary\n",
      " x2[1,7] binary\n",
      " x2[2,7] binary\n",
      " x2[1,8] binary\n",
      " x2[2,8] binary\n",
      " x2[1,9] binary\n",
      " x2[2,9] binary\n",
      "\n"
     ]
    }
   ],
   "source": [
    "#Solve the 2-stage problem: Full formulation:\n",
    "setparams!(gurobi_env, Heuristics=0.0, Cuts = 0, OutputFlag = 0)\n",
    "m = Model(() -> Gurobi.Optimizer(gurobi_env)) # If we want to add # in Gurobi, then we have to turn of Gurobi's own Cuts \n",
    "\n",
    "\n",
    "# @variable(m, w >=0)\n",
    "@variable(m,  x1[1:A], Bin)\n",
    "@variable(m, x2[1:scenNum,1:A], Bin)\n",
    "# @variable(m, 1e6 >= z[1:200000] >= 0)\n",
    "@variable(m, z[1:scenNum] >=0)\n",
    "@variable(m, 1>= r[1:scenNum] >= 0)\n",
    "# constr = Array{JuMP.ConstraintRef}(undef, 200000)\n",
    "\n",
    "# @constraint(m, sum(x[i] for i=1:A) <= b) #attack budget = 2\n",
    "# constr[1] = @constraint(m, w <= SP_init + sum(yy[i]*x[i]*d[i] for i=1:Len) + z[1]  )\n",
    "for k = 1:scenNum\n",
    "    @constraint(m, sum(x2[k,i] for i=1:A) <= b - sum(x1[i] for i =1:A))\n",
    "end\n",
    "@objective(m, Min, sum(p[i]*z[i] for i = 1:length(p)) )\n",
    "\n",
    "\n",
    "for k = 1:scenNum\n",
    "    @constraint(m, (sum(y_Set[k,j]*(x1[j]+x2[k,j]) for j = 1:A if arcs[j,1]!=source)) >= r[k] ) \n",
    "    @constraint(m, z[k] >= v[k]*(1-r[k]))\n",
    "end\n",
    "\n",
    "optimize!(m)\n",
    "\n",
    "println(m)\n"
   ]
  },
  {
   "cell_type": "code",
   "execution_count": 100,
   "metadata": {},
   "outputs": [
    {
     "name": "stdout",
     "output_type": "stream",
     "text": [
      "MP = 0.0\n",
      "x1 = Int64[]\n",
      "x2,1 = [4, 6]\n",
      "x2,2 = [4, 8]\n"
     ]
    }
   ],
   "source": [
    "println(\"MP = \", JuMP.objective_value.(m))\n",
    "println(\"x1 = \", findall(JuMP.value.(x1).==1))\n",
    "for k = 1:scenNum\n",
    "    println(\"x2,\",k,\" = \", findall(JuMP.value.(x2[k,:]).==1))\n",
    "    println\n",
    "end"
   ]
  },
  {
   "cell_type": "code",
   "execution_count": 47,
   "metadata": {},
   "outputs": [
    {
     "name": "stdout",
     "output_type": "stream",
     "text": [
      "Array{Int64,(4, 16)}\n"
     ]
    }
   ],
   "source": [
    "y_Set = Array{Int64, (scenNum, A)}\n",
    "println(y_Set)\n",
    "# y_Set[1,:] = ones(16)"
   ]
  },
  {
   "cell_type": "code",
   "execution_count": null,
   "metadata": {},
   "outputs": [],
   "source": []
  }
 ],
 "metadata": {
  "kernelspec": {
   "display_name": "Julia 1.0.5",
   "language": "julia",
   "name": "julia-1.0"
  },
  "language_info": {
   "file_extension": ".jl",
   "mimetype": "application/julia",
   "name": "julia",
   "version": "1.0.5"
  }
 },
 "nbformat": 4,
 "nbformat_minor": 4
}
