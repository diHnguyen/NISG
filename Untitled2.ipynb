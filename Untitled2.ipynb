{
 "cells": [
  {
   "cell_type": "code",
   "execution_count": 1,
   "metadata": {},
   "outputs": [],
   "source": [
    "using JuMP\n",
    "using Gurobi"
   ]
  },
  {
   "cell_type": "code",
   "execution_count": 2,
   "metadata": {},
   "outputs": [
    {
     "data": {
      "text/plain": [
       "ConstructQ (generic function with 1 method)"
      ]
     },
     "execution_count": 2,
     "metadata": {},
     "output_type": "execute_result"
    }
   ],
   "source": [
    "global C = -2 #100\n",
    "global v = 10 #50\n",
    "# global arcs = [1 2; 1 3; 2 3]\n",
    "global arcs = [1 2; 1 3; 1 4; 2 3; 2 5; 3 5; 4 5]\n",
    "# global paths = [[1 2 3],\n",
    "#             [1 3]] \n",
    "global paths = [[1 2 3 5],\n",
    "                [1 2 5],\n",
    "                [1 3 5],\n",
    "                [1 4 5]] \n",
    "# D = zeros(7,4)\n",
    "# D[1,1] = 1\n",
    "# D[4,1] = 1\n",
    "# D[6,1] = 1\n",
    "# D[1,2] = 1\n",
    "# D[5,2] = 1\n",
    "# D[2,3] = 1\n",
    "# D[6,3] = 1\n",
    "# D[3,4] = 1\n",
    "# D[7,4] = 1\n",
    "\n",
    "global N = collect(1:maximum(arcs))\n",
    "origin = 1\n",
    "destination = 5 #3\n",
    "global arcNum = length(arcs[:,1])\n",
    "\n",
    "function ConstructQ()\n",
    "    global arcs # = [1 2; 1 3; 1 4; 2 3; 2 5; 3 5; 4 5]\n",
    "    global v\n",
    "    global C\n",
    "    global paths\n",
    "\n",
    "    Q = ones((length(arcs[:,1]), length(paths))).*v\n",
    "    D = zeros((length(arcs[:,1]), length(paths)))\n",
    "    \n",
    "    for l = 1:length(paths)\n",
    "        for k = 1:length(paths[l])-1\n",
    "            arc_on_path_i = paths[l][k]\n",
    "            arc_on_path_j = paths[l][k+1]\n",
    "            arcSet = findall(arcs[:,1].==arc_on_path_i)\n",
    "            for i in arcSet   \n",
    "                if arcs[i,2] == arc_on_path_j\n",
    "                   Q[i,l] = C \n",
    "                    D[i,l] = 1\n",
    "                end\n",
    "            end\n",
    "        end\n",
    "    end\n",
    "    return Q,D\n",
    "end\n",
    "\n",
    "function MaxFlow(x, origin, destination)\n",
    "    global arcs\n",
    "    global N\n",
    "    global arcNum\n",
    "    global numPaths\n",
    "    global Q, D\n",
    "\n",
    "    \n",
    "#     for i = 1:arcNum\n",
    "#        Q[i,1] = -2 \n",
    "#     end\n",
    "    \n",
    "    println(\"Q = \", Q)\n",
    "    println(\"D = \", D)\n",
    "    \n",
    "#     println(\"arcs = \", arcs)\n",
    "#     println(\"N = \", N)\n",
    "    gurobi_env = Gurobi.Env()\n",
    "    setparams!(gurobi_env, Heuristics=0.0, Cuts = 0, OutputFlag = 0)\n",
    "    m = Model(() -> Gurobi.Optimizer(gurobi_env))\n",
    "\n",
    "    @variable(m, z[1:numPaths]>=0)\n",
    "#     @variable(m, u)\n",
    "#     flow_cons = \n",
    "    dual1 = @constraint(m, 1 == sum(z[i] for i = 1:numPaths))\n",
    "    @objective(m, Max, Q[k,l])*z[l])\n",
    "#     flow_cons = Array{JuMP.ConstraintRef}(undef, length(N)-1)\n",
    "#     ucap_cons = Array{JuMP.ConstraintRef}(undef, arcNum)\n",
    "#     xcap_cons = Array{JuMP.ConstraintRef}(undef, arcNum)\n",
    "    conNum = 1\n",
    "    return current_Obj, flow_dual, xcap_dual,0 #current_z #, b_vector, total_constr_num\n",
    "end\n"
   ]
  },
  {
   "cell_type": "code",
   "execution_count": null,
   "metadata": {},
   "outputs": [],
   "source": []
  }
 ],
 "metadata": {
  "kernelspec": {
   "display_name": "Julia 1.0.5",
   "language": "julia",
   "name": "julia-1.0"
  },
  "language_info": {
   "file_extension": ".jl",
   "mimetype": "application/julia",
   "name": "julia",
   "version": "1.0.5"
  }
 },
 "nbformat": 4,
 "nbformat_minor": 4
}
