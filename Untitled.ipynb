{
 "cells": [
  {
   "cell_type": "code",
   "execution_count": 2,
   "metadata": {},
   "outputs": [
    {
     "data": {
      "text/plain": [
       "2×10×4 Array{Float64,3}:\n",
       "[:, :, 1] =\n",
       " 1.0  1.0  1.0  1.0  1.0  1.0  1.0  1.0  1.0  1.0\n",
       " 1.0  1.0  1.0  1.0  1.0  1.0  1.0  1.0  1.0  1.0\n",
       "\n",
       "[:, :, 2] =\n",
       " 1.0  1.0  1.0  1.0  1.0  1.0  1.0  1.0  1.0  1.0\n",
       " 1.0  1.0  1.0  1.0  1.0  1.0  1.0  1.0  1.0  1.0\n",
       "\n",
       "[:, :, 3] =\n",
       " 1.0  1.0  1.0  1.0  1.0  1.0  1.0  1.0  1.0  1.0\n",
       " 1.0  1.0  1.0  1.0  1.0  1.0  1.0  1.0  1.0  1.0\n",
       "\n",
       "[:, :, 4] =\n",
       " 1.0  1.0  1.0  1.0  1.0  1.0  1.0  1.0  1.0  1.0\n",
       " 1.0  1.0  1.0  1.0  1.0  1.0  1.0  1.0  1.0  1.0"
      ]
     },
     "execution_count": 2,
     "metadata": {},
     "output_type": "execute_result"
    }
   ],
   "source": [
    "using JuMP\n",
    "w = ones(2,10,4) #Assignment variable for ER- to be output\n",
    "v = ones(6,10,4) #Assignment for non-ER\n",
    "e = 2\n",
    "speed = \n",
    "\n",
    "import random\n",
    "random.uniform(0, 1)"
   ]
  },
  {
   "cell_type": "code",
   "execution_count": 32,
   "metadata": {},
   "outputs": [
    {
     "name": "stdout",
     "output_type": "stream",
     "text": [
      "Min 61 x[1,1] + 70 x[1,2] + 50 x[2,1] + 57 x[2,2]\n",
      "Subject to\n",
      " x[1,1] + x[1,2] >= 1.0\n",
      " x[2,1] + x[2,2] >= 1.0\n",
      " x[1,1] binary\n",
      " x[2,1] binary\n",
      " x[1,2] binary\n",
      " x[2,2] binary\n",
      "\n",
      "\n",
      "Adding ScalarConstraint{GenericAffExpr{Float64,VariableRef},MathOptInterface.LessThan{Float64}}(x[1,1] + x[2,1], MathOptInterface.LessThan{Float64}(1.0))\n"
     ]
    },
    {
     "ename": "MethodError",
     "evalue": "MethodError: no method matching dual(::ScalarConstraint{GenericAffExpr{Float64,VariableRef},MathOptInterface.LessThan{Float64}})\nClosest candidates are:\n  dual(!Matched::VariableRef) at C:\\Users\\din\\.julia\\packages\\JuMP\\e0Uc2\\src\\variables.jl:994\n  dual(!Matched::ConstraintRef{Model,NonlinearConstraintIndex,Shape} where Shape<:AbstractShape) at C:\\Users\\din\\.julia\\packages\\JuMP\\e0Uc2\\src\\nlp.jl:161\n  dual(!Matched::ConstraintRef{Model,#s120,Shape} where Shape<:AbstractShape where #s120<:MathOptInterface.ConstraintIndex; result) at C:\\Users\\din\\.julia\\packages\\JuMP\\e0Uc2\\src\\constraints.jl:643",
     "output_type": "error",
     "traceback": [
      "MethodError: no method matching dual(::ScalarConstraint{GenericAffExpr{Float64,VariableRef},MathOptInterface.LessThan{Float64}})\nClosest candidates are:\n  dual(!Matched::VariableRef) at C:\\Users\\din\\.julia\\packages\\JuMP\\e0Uc2\\src\\variables.jl:994\n  dual(!Matched::ConstraintRef{Model,NonlinearConstraintIndex,Shape} where Shape<:AbstractShape) at C:\\Users\\din\\.julia\\packages\\JuMP\\e0Uc2\\src\\nlp.jl:161\n  dual(!Matched::ConstraintRef{Model,#s120,Shape} where Shape<:AbstractShape where #s120<:MathOptInterface.ConstraintIndex; result) at C:\\Users\\din\\.julia\\packages\\JuMP\\e0Uc2\\src\\constraints.jl:643",
      "",
      "Stacktrace:",
      " [1] top-level scope at In[32]:49"
     ]
    }
   ],
   "source": [
    "using JuMP, Gurobi\n",
    "nb_machines = 2\n",
    "nb_jobs = 2 #30\n",
    "# c = [12.7 22.5 8.9 20.8 13.6 12.4 24.8 19.1 11.5 17.4 24.7 6.8 21.7 14.3 10.5 15.2 14.3 12.6 9.2 20.8 11.7 17.3 9.2 20.3 11.4 6.2 13.8 10.0 20.9 20.6;  19.1 24.8 24.4 23.6 16.1 20.6 15.0 9.5 7.9 11.3 22.6 8.0 21.5 14.7 23.2 19.7 19.5 7.2 6.4 23.2 8.1 13.6 24.6 15.6 22.3 8.8 19.1 18.4 22.9 8.0;  18.6 14.1 22.7 9.9 24.2 24.5 20.8 12.9 17.7 11.9 18.7 10.1 9.1 8.9 7.7 16.6 8.3 15.9 24.3 18.6 21.1 7.5 16.8 20.9 8.9 15.2 15.7 12.7 20.8 10.4;  13.1 16.2 16.8 16.7 9.0 16.9 17.9 12.1 17.5 22.0 19.9 14.6 18.2 19.6 24.2 12.9 11.3 7.5 6.5 11.3 7.8 13.8 20.7 16.8 23.6 19.1 16.8 19.3 12.5 11.0]\n",
    "# w = [61 70 57 82 51 74 98 64 86 80 69 79 60 76 78 71 50 99 92 83 53 91 68 61 63 97 91 77 68 80; 50 57 61 83 81 79 63 99 82 59 83 91 59 99 91 75 66 100 69 60 87 98 78 62 90 89 67 87 65 100; 91 81 66 63 59 81 87 90 65 55 57 68 92 91 86 74 80 89 95 57 55 96 77 60 55 57 56 67 81 52;  62 79 73 60 75 66 68 99 69 60 56 100 67 68 54 66 50 56 70 56 72 62 85 70 100 57 96 69 65 50]\n",
    "# Q = [1020 1460 1530 1190]\n",
    "c = [12.7 22.5;  19.1 24.8]\n",
    "w = [61 70; 50 57]\n",
    "Q = [1020 1460] \n",
    "M = 1:nb_machines\n",
    "J = 1:nb_jobs\n",
    "\n",
    "model = Model(() -> Gurobi.Optimizer(OutputFlag=0))\n",
    "@variable(model, x[1:2, 1:2], Bin)\n",
    "cRefNum = 10\n",
    "# global con = Array{JuMP.ConstraintRef}(undef, 1)\n",
    "constr = Array{JuMP.ConstraintRef}(undef, cRefNum)\n",
    "for i = 1:2\n",
    "    constr[i] = @constraint(model, x[i,1] + x[i,2] >= 1)\n",
    "end\n",
    "@objective(model, Min,sum(w[i,j]*x[i,j] for i=1:2, j=1:2))\n",
    "global callback_called = false\n",
    "\n",
    "function my_callback_function(cb_data)\n",
    "    global callback_called = true\n",
    "    global con\n",
    "    x_val = callback_value.(Ref(cb_data), x)\n",
    "#     println(x_val)\n",
    "#     println(callback_called)\n",
    "    if x_val[1,1] + x_val[2,1] > 1\n",
    "        con = @build_constraint(\n",
    "            x[1,1] + x[2,1] <= 1\n",
    "        )\n",
    "        println(\"\\nAdding $(con)\")\n",
    "        MOI.submit(model, MOI.LazyConstraint(cb_data), con)\n",
    "    end\n",
    "#     if x_val[1,2] + x_val[2,2] > 1\n",
    "#         con = @build_constraint(\n",
    "#             x[1,2] + x[2,2] <= 1\n",
    "#         )\n",
    "#         println(\"Adding $(con)\")\n",
    "#         MOI.submit(model, MOI.LazyConstraint(cb_data), con)\n",
    "#     end\n",
    "    return con\n",
    "end\n",
    "con = MOI.set(model, MOI.LazyConstraintCallback(), my_callback_function)\n",
    "println(model)\n",
    "optimize!(model)\n",
    "myDual = JuMP.dual(con)\n",
    "println(\"Obj Val = \", JuMP.objective_value(model))\n",
    "@show callback_called\n",
    "\n",
    "for i = 1:2\n",
    "    Z = value.(x[i,:]) #.data  # j-th position is equal to 1 if job j assigned to machine i\n",
    "    println(\"Assignment for machine \", i,\": \", findall(Z.>0))\n",
    "end"
   ]
  },
  {
   "cell_type": "code",
   "execution_count": 50,
   "metadata": {},
   "outputs": [
    {
     "name": "stdout",
     "output_type": "stream",
     "text": [
      "Adding Lazy Constraint 2\n",
      "Max x\n",
      "Subject to\n",
      " x <= 10.0\n",
      " x integer\n",
      "\n",
      "10.0\n"
     ]
    }
   ],
   "source": [
    "model = Model(() -> Gurobi.Optimizer(OutputFlag=0))\n",
    "cRefNum = 20\n",
    "global constr = Array{JuMP.ConstraintRef}(undef, cRefNum)\n",
    "@variable(model, x, Int)\n",
    "global n = 1\n",
    "constr[n] = @constraint(model, x <= 10)\n",
    "@objective(model, Max, x)\n",
    "# global con\n",
    "function my_callback_function(cb_data)\n",
    "    global n, constr\n",
    "#     m = callback_value(cb_data, model)\n",
    "    callback_value(cb_data, x)\n",
    "    x_val = callback_value(cb_data, x)\n",
    "    if x_val > 2 + 1e-6\n",
    "        n = n+1\n",
    "        println(\"Adding Lazy Constraint \", n)\n",
    "        println(model)\n",
    "        constr[n] = @constraint(model,x <= 2)\n",
    "#         MOI.submit(model, MOI.LazyConstraint(cb_data), con)\n",
    "    end\n",
    "#     return con\n",
    "end\n",
    "MOI.set(model, MOI.LazyConstraintCallback(), my_callback_function)\n",
    "optimize!(model)\n",
    "println(JuMP.value.(x))"
   ]
  },
  {
   "cell_type": "code",
   "execution_count": null,
   "metadata": {},
   "outputs": [],
   "source": []
  }
 ],
 "metadata": {
  "kernelspec": {
   "display_name": "Julia 1.0.5",
   "language": "julia",
   "name": "julia-1.0"
  },
  "language_info": {
   "file_extension": ".jl",
   "mimetype": "application/julia",
   "name": "julia",
   "version": "1.0.5"
  }
 },
 "nbformat": 4,
 "nbformat_minor": 4
}
