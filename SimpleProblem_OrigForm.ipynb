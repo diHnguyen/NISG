{
 "cells": [
  {
   "cell_type": "code",
   "execution_count": 64,
   "metadata": {},
   "outputs": [
    {
     "name": "stdout",
     "output_type": "stream",
     "text": [
      "\r\n",
      "--------------------------------------------\r\n",
      "Warning: your license will expire in 7 days\r\n",
      "--------------------------------------------\r\n",
      "\r\n",
      "Academic license - for non-commercial use only\r\n"
     ]
    },
    {
     "data": {
      "text/plain": [
       "1000"
      ]
     },
     "execution_count": 64,
     "metadata": {},
     "output_type": "execute_result"
    }
   ],
   "source": [
    "# This version assumes the following:\n",
    "# 1. The target nodes can NOT be interlinked.\n",
    "# 2. At least arcs between any pair of (true) source-target node.\n",
    "# 3. The evader cannot see the 2nd-stage interdiction decision\n",
    "# 4. There is no terminating condition yet\n",
    "\n",
    "using JuMP \n",
    "using Gurobi\n",
    "using LightGraphs\n",
    "using DataFrames\n",
    "using CSV\n",
    "using TimerOutputs\n",
    "gurobi_env = Gurobi.Env()\n",
    "to = TimerOutput()\n",
    "myFile = \"./SmallExample.jl\"\n",
    "include(myFile)\n",
    "myFile = \"./shortestPath.jl\"\n",
    "include(myFile)\n",
    "b=1\n",
    "M = 1000#sum(c[t] for t =1:length(T))*10"
   ]
  },
  {
   "cell_type": "code",
   "execution_count": 65,
   "metadata": {},
   "outputs": [
    {
     "data": {
      "text/plain": [
       "([1 0 … 0 0; 1 0 … 0 0; 0 1 … 1 0], [18.0, 17.0, 14.0])"
      ]
     },
     "execution_count": 65,
     "metadata": {},
     "output_type": "execute_result"
    }
   ],
   "source": [
    "x_now = zeros(Len)\n",
    "# y, gx, tree, path, y_Set = gx_bound(arcs, Len, c, origin,d, x_now, T, scenNum)\n",
    "y_Set, g_Set = gx_bound(arcs, Len, c, origin,d, x_now, T, scenNum)"
   ]
  },
  {
   "cell_type": "code",
   "execution_count": 76,
   "metadata": {},
   "outputs": [
    {
     "name": "stdout",
     "output_type": "stream",
     "text": [
      "\n",
      "\n",
      "Iteration 1\n",
      "Obj Val = 0.0\n",
      "x1 = Int64[]\n",
      "n = 3. x2 = Int64[]\n",
      "n = 3. z = [0.0, 0.0, 0.0]\n",
      "n = 4. x2 = Int64[]\n",
      "n = 4. z = [0.0, 0.0, 0.0]\n",
      "n = 8. x2 = Int64[]\n",
      "n = 8. z = [0.0, 0.0, 0.0]\n",
      "[1.0, 14.0, 14.0]\n",
      "[14.0, 10.0, 14.0]\n",
      "[14.0, 8.0, 2.0]\n",
      "\n",
      "\n",
      "Iteration 2\n",
      "Obj Val = 0.0\n",
      "x1 = Int64[]\n",
      "n = 3. x2 = [5]\n",
      "n = 3. z = [0.0, 0.0, 0.0]\n",
      "n = 4. x2 = [6]\n",
      "n = 4. z = [0.0, 0.0, 0.0]\n",
      "n = 8. x2 = [12]\n",
      "n = 8. z = [0.0, 0.0, 0.0]\n",
      "[1.0, 14.0, 14.0]\n",
      "[14.0, 10.0, 14.0]\n",
      "[14.0, 8.0, 2.0]\n"
     ]
    }
   ],
   "source": [
    "###Full Formulation:\n",
    "N2 = [3,4,8]\n",
    "\n",
    "#Initialize p^n_t to be just replications of p\n",
    "p = Array{Float64}(undef, 0,length(T))\n",
    "for n in N2\n",
    "    p = vcat(p, p_init')\n",
    "end\n",
    "# println(p)\n",
    "# println(p)\n",
    "# println(Len)\n",
    "setparams!(gurobi_env, Heuristics=0.0, Cuts = 0, OutputFlag = 0)\n",
    "FP = Model(() -> Gurobi.Optimizer(gurobi_env))\n",
    "\n",
    "@variable(FP, x1[1:Len], Bin)\n",
    "@variable(FP, x2[1:length(N2),1:Len], Bin)\n",
    "@variable(FP, z[1:length(N2), 1:length(T)] >=0)\n",
    "\n",
    "constr = Array{JuMP.ConstraintRef}(undef, 200)\n",
    "# println(\"!\")\n",
    "@objective(FP, Min, sum(p[n,t]*z[n,t] for n = 1:length(N2) for t=1:length(T) ) )\n",
    "\n",
    "#Budget Constraints\n",
    "for n = 1:length(N2)\n",
    "    @constraint(FP, sum(x2[n,i] for i=1:Len) <= b - sum(x1[i] for i =1:Len))\n",
    "end\n",
    "\n",
    "#Interdiction Constraints on Super-node Arcs:\n",
    "for i in A_star\n",
    "    @constraint(FP, x1[i] == 0)\n",
    "    for n = 1:length(N2) #scenNum\n",
    "        @constraint(FP, x2[n,i] == 0)\n",
    "    end\n",
    "end\n",
    "opt = false\n",
    "iter = 0\n",
    "con_num = 1\n",
    "last_Obj = -1\n",
    "while opt == false\n",
    "    iter = iter+1\n",
    "    println(\"\\n\\nIteration \", iter)\n",
    "#     println(FP)\n",
    "    optimize!(FP)\n",
    "    current_Obj = JuMP.objective_value.(FP)\n",
    "    current_x1 = JuMP.value.(x1)\n",
    "    current_x2 = JuMP.value.(x2)\n",
    "    current_z = JuMP.value.(z)\n",
    "    println(\"Obj Val = \", current_Obj)\n",
    "    println(\"x1 = \", findall(current_x1.==1))\n",
    "    for n = 1: length(N2)#scenNum\n",
    "        println(\"n = \", N2[n], \". x2 = \", findall(current_x2[n,:].==1))\n",
    "        println(\"n = \", N2[n], \". z = \", current_z[n,:])\n",
    "    end\n",
    "    for n = 1:length(N2)\n",
    "        arc_Set = findall(arcs[:,2].== N2[n])\n",
    "#         println(arc_Set)\n",
    "        \n",
    "        #Solve for shortest path:\n",
    "        y_All, g_All = gx_bound(arcs, Len, c, N2[n], d, current_x1, T, scenNum)\n",
    "        println(g_All)\n",
    "        p_sum = 0\n",
    "        for t = 1:length(T)\n",
    "            #Constraint for impact of stage 1's interdiction decision on z^n_t\n",
    "            constr[con_num] = @constraint(FP, z[n,t] <= M*(sum(x1[i] for i in arc_Set)))\n",
    "            con_num = con_num +1\n",
    "            \n",
    "            if g_All[t] <= Len\n",
    "#                 y_Set = vcat(y_Set,y_All[n,:]')\n",
    "                evaderPath = findall(y_All[n,:].==1)\n",
    "                constr[con_num] = @constraint(FP, z[n,t] >= v[t]*(1 - sum(x2[n,i] for i in evaderPath)))\n",
    "                con_num = con_num +1\n",
    "                p_sum = p_sum + p[n,t]\n",
    "            else \n",
    "                p[n,t] = 0\n",
    "            end\n",
    "            \n",
    "        end\n",
    "        p[n,:] = p[n,:]./p_sum\n",
    "#         println(\"p[n,:] = \", p[n,:])\n",
    "    end\n",
    "    if last_Obj >= current_Obj\n",
    "        opt = true\n",
    "    end\n",
    "    last_Obj = current_Obj\n",
    "    @objective(FP, Min, sum(p[n,t]*z[n,t] for n = 1:length(N2) for t=1:length(T) ) )\n",
    "end\n",
    "\n"
   ]
  },
  {
   "cell_type": "code",
   "execution_count": null,
   "metadata": {},
   "outputs": [],
   "source": []
  }
 ],
 "metadata": {
  "kernelspec": {
   "display_name": "Julia 1.0.5",
   "language": "julia",
   "name": "julia-1.0"
  },
  "language_info": {
   "file_extension": ".jl",
   "mimetype": "application/julia",
   "name": "julia",
   "version": "1.0.5"
  }
 },
 "nbformat": 4,
 "nbformat_minor": 4
}
