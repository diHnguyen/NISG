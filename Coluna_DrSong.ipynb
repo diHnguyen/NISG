{
 "cells": [
  {
   "cell_type": "code",
   "execution_count": 47,
   "metadata": {},
   "outputs": [
    {
     "name": "stdout",
     "output_type": "stream",
     "text": [
      "Min 12.7 x[1,1] + 22.5 x[1,2] + 8.9 x[1,3] + 19.1 x[2,1] + 24.8 x[2,2] + 24.4 x[2,3]\n",
      "Subject to\n",
      " cov[1] : x[1,1] + x[2,1] >= 1.0\n",
      " cov[2] : x[1,2] + x[2,2] >= 1.0\n",
      " cov[3] : x[1,3] + x[2,3] >= 1.0\n",
      " knp[1] : 61 x[1,1] + 70 x[1,2] + 57 x[1,3] <= 1020.0\n",
      " knp[2] : 50 x[2,1] + 57 x[2,2] + 61 x[2,3] <= 1460.0\n",
      " x[1,1] binary\n",
      " x[2,1] binary\n",
      " x[1,2] binary\n",
      " x[2,2] binary\n",
      " x[1,3] binary\n",
      " x[2,3] binary\n",
      "\n",
      "Coluna\n",
      "Version 0.3.8 | 2021-04-15 | https://github.com/atoptima/Coluna.jl\n",
      "***************************************************************************************\n",
      "**** BaB tree root node\n",
      "**** Local DB = -Inf, global bounds : [ -Inf , Inf ], time = 0.00 sec.\n",
      "***************************************************************************************\n",
      "  <it=  1> <et= 0.00> <mst= 0.00> <sp= 0.00> <cols= 2> <al= 0.00> <DB=-29887.6000> <mlp=30000.0000> <PB=Inf>\n"
     ]
    },
    {
     "name": "stderr",
     "output_type": "stream",
     "text": [
      "┌ Warning: No initial primal bound and no cost for global artificial variables.\n",
      "│ Cost of global artificial variables set to 100000.0\n",
      "└ @ Coluna C:\\Users\\din\\.julia\\packages\\Coluna\\xXsE0\\src\\optimize.jl:20\n",
      "┌ Warning: No initial primal bound and no cost for local artificial variables.\n",
      "│ Cost of local artificial variables set to 10000.0\n",
      "└ @ Coluna C:\\Users\\din\\.julia\\packages\\Coluna\\xXsE0\\src\\optimize.jl:33\n"
     ]
    },
    {
     "ename": "UndefVarError",
     "evalue": "UndefVarError: cbdata not defined",
     "output_type": "error",
     "traceback": [
      "UndefVarError: cbdata not defined",
      "",
      "Stacktrace:",
      " [1] my_callback_function(::Coluna.Algorithm.RobustCutCallbackContext) at .\\In[47]:41",
      " [2] run!(::Coluna.Algorithm.CutCallbacks, ::Env, ::Coluna.Algorithm.ModelData, ::Coluna.Algorithm.CutCallbacksInput) at C:\\Users\\din\\.julia\\packages\\Coluna\\xXsE0\\src\\Algorithm\\basic\\cutcallback.jl:60",
      " [3] macro expansion at C:\\Users\\din\\.julia\\packages\\Coluna\\xXsE0\\src\\Algorithm\\colgen.jl:667 [inlined]",
      " [4] macro expansion at C:\\Users\\din\\.julia\\packages\\TimerOutputs\\ZmKD7\\src\\TimerOutput.jl:190 [inlined]",
      " [5] cg_main_loop!(::Coluna.Algorithm.ColumnGeneration, ::Env, ::Int64, ::Coluna.Algorithm.OptimizationState{Coluna.MathProg.Formulation{Coluna.MathProg.DwMaster},Coluna.MathProg.MinSense}, ::Coluna.Algorithm.ReformData) at C:\\Users\\din\\.julia\\packages\\Coluna\\xXsE0\\src\\Algorithm\\colgen.jl:653",
      " [6] run!(::Coluna.Algorithm.ColumnGeneration, ::Env, ::Coluna.Algorithm.ReformData, ::Coluna.Algorithm.OptimizationInput{Coluna.MathProg.Formulation{Coluna.MathProg.DwMaster},Coluna.MathProg.MinSense}) at C:\\Users\\din\\.julia\\packages\\Coluna\\xXsE0\\src\\Algorithm\\colgen.jl:123",
      " [7] run!(::Coluna.Algorithm.ColCutGenConquer, ::Env, ::Coluna.Algorithm.ReformData, ::Coluna.Algorithm.ConquerInput) at C:\\Users\\din\\.julia\\packages\\Coluna\\xXsE0\\src\\Algorithm\\conquer.jl:170",
      " [8] apply_conquer_alg_to_node!(::Coluna.Algorithm.Node, ::Coluna.Algorithm.ColCutGenConquer, ::Env, ::Coluna.Algorithm.ReformData, ::Dict{Tuple{Coluna.ColunaBase.AbstractModel,Pair{DataType,DataType}},Coluna.Algorithm.UnitAccessMode}, ::Float64, ::Float64) at C:\\Users\\din\\.julia\\packages\\Coluna\\xXsE0\\src\\Algorithm\\conquer.jl:61",
      " [9] run_conquer_algorithm!(::Coluna.Algorithm.TreeSearchAlgorithm, ::Env, ::Coluna.Algorithm.TreeSearchRuntimeData{Coluna.MathProg.MinSense}, ::Coluna.Algorithm.ReformData, ::Coluna.Algorithm.Node) at C:\\Users\\din\\.julia\\packages\\Coluna\\xXsE0\\src\\Algorithm\\treesearch.jl:252",
      " [10] run!(::Coluna.Algorithm.TreeSearchAlgorithm, ::Env, ::Coluna.Algorithm.ReformData, ::Coluna.Algorithm.OptimizationInput{Coluna.MathProg.Formulation{Coluna.MathProg.DwMaster},Coluna.MathProg.MinSense}) at C:\\Users\\din\\.julia\\packages\\Coluna\\xXsE0\\src\\Algorithm\\treesearch.jl:330",
      " [11] optimize!(::Coluna.MathProg.Reformulation, ::Env, ::Coluna.ColunaBase.Bound{Coluna.MathProg.Primal,Coluna.MathProg.MinSense}, ::Coluna.ColunaBase.Bound{Coluna.MathProg.Dual,Coluna.MathProg.MinSense}) at C:\\Users\\din\\.julia\\packages\\Coluna\\xXsE0\\src\\optimize.jl:96",
      " [12] macro expansion at C:\\Users\\din\\.julia\\packages\\Coluna\\xXsE0\\src\\optimize.jl:63 [inlined]",
      " [13] macro expansion at C:\\Users\\din\\.julia\\packages\\TimerOutputs\\ZmKD7\\src\\TimerOutput.jl:190 [inlined]",
      " [14] optimize!(::Env, ::Coluna.MathProg.Problem, ::Coluna.Annotations) at C:\\Users\\din\\.julia\\packages\\Coluna\\xXsE0\\src\\optimize.jl:62",
      " [15] optimize!(::Coluna.Optimizer) at C:\\Users\\din\\.julia\\packages\\Coluna\\xXsE0\\src\\MOIwrapper.jl:98",
      " [16] optimize!(::MathOptInterface.Bridges.LazyBridgeOptimizer{Coluna.Optimizer}) at C:\\Users\\din\\.julia\\packages\\MathOptInterface\\YDdD3\\src\\Bridges\\bridge_optimizer.jl:319",
      " [17] optimize!(::MathOptInterface.Utilities.CachingOptimizer{MathOptInterface.AbstractOptimizer,MathOptInterface.Utilities.UniversalFallback{MathOptInterface.Utilities.GenericModel{Float64,MathOptInterface.Utilities.ModelFunctionConstraints{Float64}}}}) at C:\\Users\\din\\.julia\\packages\\MathOptInterface\\YDdD3\\src\\Utilities\\cachingoptimizer.jl:252",
      " [18] #optimize!#102(::Bool, ::Bool, ::Base.Iterators.Pairs{Union{},Union{},Tuple{},NamedTuple{(),Tuple{}}}, ::Function, ::Model, ::Nothing) at C:\\Users\\din\\.julia\\packages\\JuMP\\e0Uc2\\src\\optimizer_interface.jl:130",
      " [19] #optimize! at .\\none:0 [inlined] (repeats 2 times)",
      " [20] optimize!(::Model) at C:\\Users\\din\\.julia\\packages\\BlockDecomposition\\VZB0k\\src\\BlockDecomposition.jl:51",
      " [21] #optimize!#102(::Bool, ::Bool, ::Base.Iterators.Pairs{Union{},Union{},Tuple{},NamedTuple{(),Tuple{}}}, ::Function, ::Model, ::Nothing) at C:\\Users\\din\\.julia\\packages\\JuMP\\e0Uc2\\src\\optimizer_interface.jl:120",
      " [22] optimize! at C:\\Users\\din\\.julia\\packages\\JuMP\\e0Uc2\\src\\optimizer_interface.jl:106 [inlined] (repeats 2 times)",
      " [23] top-level scope at In[47]:60"
     ]
    }
   ],
   "source": [
    "#Coluna Testing\n",
    "using JuMP, BlockDecomposition, Coluna, MathOptInterface, Gurobi\n",
    "const BD = BlockDecomposition;\n",
    "# const MOI = MathOptInterface;\n",
    "nb_machines = 2\n",
    "nb_jobs = 3 #30\n",
    "# c = [12.7 22.5 8.9 20.8 13.6 12.4 24.8 19.1 11.5 17.4 24.7 6.8 21.7 14.3 10.5 15.2 14.3 12.6 9.2 20.8 11.7 17.3 9.2 20.3 11.4 6.2 13.8 10.0 20.9 20.6;  19.1 24.8 24.4 23.6 16.1 20.6 15.0 9.5 7.9 11.3 22.6 8.0 21.5 14.7 23.2 19.7 19.5 7.2 6.4 23.2 8.1 13.6 24.6 15.6 22.3 8.8 19.1 18.4 22.9 8.0;  18.6 14.1 22.7 9.9 24.2 24.5 20.8 12.9 17.7 11.9 18.7 10.1 9.1 8.9 7.7 16.6 8.3 15.9 24.3 18.6 21.1 7.5 16.8 20.9 8.9 15.2 15.7 12.7 20.8 10.4;  13.1 16.2 16.8 16.7 9.0 16.9 17.9 12.1 17.5 22.0 19.9 14.6 18.2 19.6 24.2 12.9 11.3 7.5 6.5 11.3 7.8 13.8 20.7 16.8 23.6 19.1 16.8 19.3 12.5 11.0]\n",
    "# w = [61 70 57 82 51 74 98 64 86 80 69 79 60 76 78 71 50 99 92 83 53 91 68 61 63 97 91 77 68 80; 50 57 61 83 81 79 63 99 82 59 83 91 59 99 91 75 66 100 69 60 87 98 78 62 90 89 67 87 65 100; 91 81 66 63 59 81 87 90 65 55 57 68 92 91 86 74 80 89 95 57 55 96 77 60 55 57 56 67 81 52;  62 79 73 60 75 66 68 99 69 60 56 100 67 68 54 66 50 56 70 56 72 62 85 70 100 57 96 69 65 50]\n",
    "# Q = [1020 1460 1530 1190]\n",
    "c = [12.7 22.5 8.9; 19.1 24.8 24.4]\n",
    "w = [61 70 57; 50 57 61]\n",
    "Q = [1020 1460 1530] \n",
    "\n",
    "coluna = optimizer_with_attributes(\n",
    "    Coluna.Optimizer,\n",
    "    \"params\" => Coluna.Params(\n",
    "        solver = Coluna.Algorithm.TreeSearchAlgorithm() # default BCP\n",
    "    ),\n",
    "    \"default_optimizer\" => Gurobi.Optimizer # GLPK for the master & the subproblems\n",
    ")\n",
    "\n",
    "@axis(M, 1:nb_machines)\n",
    "J = 1:nb_jobs\n",
    "\n",
    "model = BlockModel(coluna)\n",
    "@variable(model, x[m in M, j in J], Bin)\n",
    "@constraint(model, cov[j in J], sum(x[m, j] for m in M) >= 1)\n",
    "@constraint(model, knp[m in M], sum(w[m, j] * x[m, j] for j in J) <= Q[m])\n",
    "@objective(model, Min, sum(c[m, j] * x[m, j] for m in M, j in J))\n",
    "callback_called = false\n",
    "@dantzig_wolfe_decomposition(model, decomposition, M)\n",
    "\n",
    "master = getmaster(decomposition)\n",
    "subproblems = getsubproblems(decomposition)\n",
    "\n",
    "specify!.(subproblems, lower_multiplicity = 0, upper_multiplicity = 1)\n",
    "function my_callback_function(cb_data)\n",
    "#     callback_called = true\n",
    "#     x_val = callback_value.(Ref(cb_data), x)\n",
    "    # Retrieve the index of the subproblem (it will be one of the values in M)\n",
    "    cur_machine = BD.callback_spid(cbdata, model)\n",
    "\n",
    "    # Retrieve reduced costs of subproblem variables\n",
    "    red_costs = [BD.callback_reduced_cost(cbdata, x[cur_machine, j]) for j in J]\n",
    "#     cur_machine = BD.callback_spid(cbdata, model)\n",
    "# #     println(\"Has Duals \", has_duals(cur_machine))\n",
    "# #     println(x_val)\n",
    "#     if x_val[1,1] + x_val[1,2] > 1\n",
    "#         con = @build_constraint(\n",
    "#             x[1,1] + x[1,2] <= 1\n",
    "#         )\n",
    "#         println(\"Adding $(con)\")\n",
    "#         MOI.submit(model, MOI.LazyConstraint(cb_data), con)\n",
    "#     end\n",
    "#     println(\"PRICE: \", shadow_price(con))\n",
    "#     return con\n",
    "end\n",
    "con = MOI.set(model, MOI.LazyConstraintCallback(), my_callback_function)\n",
    "println(model)\n",
    "optimize!(model)\n",
    "println(\"Obj Val = \", getobjectivevalue(model))\n",
    "@show callback_called\n",
    "\n",
    "for i = 1:nb_jobs\n",
    "    Z = value.(x[i,:]).data  # j-th position is equal to 1 if job j assigned to machine i\n",
    "    println(\"Assignment for machine \", i,\": \", findall(Z.>0))\n",
    "end"
   ]
  },
  {
   "cell_type": "code",
   "execution_count": 1,
   "metadata": {},
   "outputs": [
    {
     "name": "stdout",
     "output_type": "stream",
     "text": [
      "Coluna\n",
      "Version 0.3.10 | 2021-09-07 | https://github.com/atoptima/Coluna.jl\n",
      "***************************************************************************************\n",
      "**** BaB tree root node\n",
      "**** Local DB = -Inf, global bounds : [ -Inf , Inf ], time = 4.91 sec.\n",
      "***************************************************************************************\n",
      "RD = [12.7, -9977.5, -9991.1, 20.8, 13.6, 12.4, 24.8, -9980.9, 11.5, 17.4, -9975.3, -9993.2, 21.7, 14.3, -9989.5, -9984.8, 14.3, 12.6, 9.2, -9979.2, 11.7, 17.3, -9990.8, 20.3, 11.4, -9993.8, 13.8, 10.0, 20.9, 20.6]\n",
      "sol_vars = VariableRef[x[1,2], x[1,3], x[1,8], x[1,11], x[1,12], x[1,15], x[1,16], x[1,20], x[1,23], x[1,26]]\n",
      "sol_vals = [1.0, 1.0, 1.0, 1.0, 1.0, 1.0, 1.0, 1.0, 1.0, 1.0]\n",
      "sol_cost = -99856.1\n",
      "  <it=  1> <et=12.75> <mst= 1.85> <sp= 2.66> <cols= 1> <al= 0.00> <DB=  143.9000> <mlp=100000.0000> <PB=Inf>\n",
      "RD = [12.7, 10022.5, 10008.9, 20.8, -9986.4, 12.4, 24.8, 9875.2, -9988.5, -9982.6, 10024.7, 10006.8, 21.7, 14.3, -9989.5, -9984.8, -9841.8, 12.6, -9990.8, -9979.2, 11.7, -9982.7, -9990.8, -9979.7, -9988.6, -9993.8, -9986.2, 10.0, -9979.1, 20.6]\n",
      "sol_vars = VariableRef[x[1,1], x[1,2], x[1,3], x[1,4], x[1,5], x[1,7], x[1,8], x[1,9], x[1,10], x[1,11], x[1,12], x[1,13], x[1,14]]\n",
      "sol_vals = [1.0, 1.0, 1.0, 1.0, 1.0, 1.0, 1.0, 1.0, 1.0, 1.0, 1.0, 1.0, 1.0]\n",
      "sol_cost = 20074.9\n",
      "  <it=  2> <et=12.84> <mst= 0.02> <sp= 0.06> <cols= 0> <al= 0.00> <DB=100000.0000> <mlp=100000.0000> <PB=Inf>\n",
      "RD = [0.0, 10000.0, 10000.0, 0.0, -10000.0, 0.0, 0.0, 10000.0, -10000.0, -10000.0, 10000.0, 10000.0, 0.0, 0.0, -10000.0, -10000.0, -10000.0, 0.0, -10000.0, -10000.0, 0.0, -10000.0, -10000.0, -10000.0, -10000.0, -10000.0, -10000.0, 0.0, -10000.0, 0.0]\n",
      "sol_vars = VariableRef[x[1,3], x[1,6], x[1,7], x[1,10], x[1,11], x[1,12], x[1,15], x[1,17], x[1,18], x[1,19], x[1,20], x[1,22], x[1,24]]\n",
      "sol_vals = [1.0, 1.0, 1.0, 1.0, 1.0, 1.0, 1.0, 1.0, 1.0, 1.0, 1.0, 1.0, 1.0]\n",
      "sol_cost = -40000.0\n",
      "# <it=  1> <et=12.98> <mst= 0.00> <sp= 0.01> <cols= 1> <al= 0.00> <DB=60000.0000> <mlp=100000.0000> <PB=Inf>\n"
     ]
    },
    {
     "name": "stderr",
     "output_type": "stream",
     "text": [
      "┌ Info: Column generation algorithm has converged.\n",
      "└ @ Coluna.Algorithm C:\\Users\\din\\.julia\\dev\\Coluna\\src\\Algorithm\\colgen.jl:797\n"
     ]
    },
    {
     "name": "stdout",
     "output_type": "stream",
     "text": [
      "Node is already conquered. No children will be generated."
     ]
    },
    {
     "name": "stderr",
     "output_type": "stream",
     "text": [
      "┌ Info: Phase one determines infeasibility.\n",
      "└ @ Coluna.Algorithm C:\\Users\\din\\.julia\\dev\\Coluna\\src\\Algorithm\\colgen.jl:793\n"
     ]
    },
    {
     "name": "stdout",
     "output_type": "stream",
     "text": [
      "\n",
      "\u001b[0m\u001b[1m ──────────────────────────────────────────────────────────────────────────────\u001b[22m\n",
      "\u001b[0m\u001b[1m                               \u001b[22m        Time                   Allocations      \n",
      "                               ──────────────────────   ───────────────────────\n",
      "       Tot / % measured:          317548s / 0.00%           8.76GiB / 21.8%    \n",
      "\n",
      " Section               ncalls     time   %tot     avg     alloc   %tot      avg\n",
      " ──────────────────────────────────────────────────────────────────────────────\n",
      " Coluna                     1    13.5s   100%   13.5s   1.91GiB  100%   1.91GiB\n",
      "   SolveLpForm              3    1.32s  9.79%   439ms    123MiB  6.29%  40.9MiB\n",
      "   Inserting columns        3    279ms  2.08%  93.1ms   21.7MiB  1.11%  7.22MiB\n",
      "   Cleanup columns          3    135ms  1.00%  44.9ms   6.51MiB  0.33%  2.17MiB\n",
      "   Store records            1   88.3ms  0.66%  88.3ms   9.84MiB  0.50%  9.84MiB\n",
      "   Update Lagrangia...      3   52.5ms  0.39%  17.5ms   3.48MiB  0.18%  1.16MiB\n",
      "   Update reduced c...      3   48.5ms  0.36%  16.2ms   4.20MiB  0.21%  1.40MiB\n",
      "   Getting primal s...      3   28.4ms  0.21%  9.45ms   1.05MiB  0.05%   359KiB\n",
      "   Smoothing update         3   17.4ms  0.13%  5.80ms   4.98MiB  0.26%  1.66MiB\n",
      "   Restore/remove r...      1   8.00μs  0.00%  8.00μs     0.00B  0.00%    0.00B\n",
      "\u001b[0m\u001b[1m ──────────────────────────────────────────────────────────────────────────────\u001b[22m\n"
     ]
    },
    {
     "name": "stderr",
     "output_type": "stream",
     "text": [
      "┌ Info: Terminated\n",
      "└ @ Coluna C:\\Users\\din\\.julia\\dev\\Coluna\\src\\optimize.jl:63\n",
      "┌ Info: Primal bound: Inf\n",
      "└ @ Coluna C:\\Users\\din\\.julia\\dev\\Coluna\\src\\optimize.jl:64\n"
     ]
    },
    {
     "name": "stdout",
     "output_type": "stream",
     "text": [
      "Inf\n"
     ]
    },
    {
     "name": "stderr",
     "output_type": "stream",
     "text": [
      "┌ Info: Dual bound: Inf\n",
      "└ @ Coluna C:\\Users\\din\\.julia\\dev\\Coluna\\src\\optimize.jl:65\n"
     ]
    }
   ],
   "source": [
    "using Coluna, BlockDecomposition, JuMP, MathOptInterface, Gurobi;\n",
    "const BD = BlockDecomposition;\n",
    "const MOI = MathOptInterface;\n",
    "nb_machines = 4;\n",
    "nb_jobs = 30;\n",
    "\n",
    "c = [12.7 22.5 8.9 20.8 13.6 12.4 24.8 19.1 11.5 17.4 24.7 6.8 21.7 14.3 10.5 15.2 14.3 12.6 9.2 20.8 11.7 17.3 9.2 20.3 11.4 6.2 13.8 10.0 20.9 20.6;  19.1 24.8 24.4 23.6 16.1 20.6 15.0 9.5 7.9 11.3 22.6 8.0 21.5 14.7 23.2 19.7 19.5 7.2 6.4 23.2 8.1 13.6 24.6 15.6 22.3 8.8 19.1 18.4 22.9 8.0;  18.6 14.1 22.7 9.9 24.2 24.5 20.8 12.9 17.7 11.9 18.7 10.1 9.1 8.9 7.7 16.6 8.3 15.9 24.3 18.6 21.1 7.5 16.8 20.9 8.9 15.2 15.7 12.7 20.8 10.4;  13.1 16.2 16.8 16.7 9.0 16.9 17.9 12.1 17.5 22.0 19.9 14.6 18.2 19.6 24.2 12.9 11.3 7.5 6.5 11.3 7.8 13.8 20.7 16.8 23.6 19.1 16.8 19.3 12.5 11.0];\n",
    "w = [61 70 57 82 51 74 98 64 86 80 69 79 60 76 78 71 50 99 92 83 53 91 68 61 63 97 91 77 68 80; 50 57 61 83 81 79 63 99 82 59 83 91 59 99 91 75 66 100 69 60 87 98 78 62 90 89 67 87 65 100; 91 81 66 63 59 81 87 90 65 55 57 68 92 91 86 74 80 89 95 57 55 96 77 60 55 57 56 67 81 52;  62 79 73 60 75 66 68 99 69 60 56 100 67 68 54 66 50 56 70 56 72 62 85 70 100 57 96 69 65 50];\n",
    "Q = [1020 1460 1530 1190];\n",
    "coluna = optimizer_with_attributes(\n",
    "    Coluna.Optimizer,\n",
    "    \"params\" => Coluna.Params(\n",
    "        solver = Coluna.Algorithm.TreeSearchAlgorithm() # default BCP\n",
    "    ),\n",
    "    \"default_optimizer\" => Gurobi.Optimizer # GLPK for the master & the subproblems\n",
    ");\n",
    "model = BlockModel(coluna);\n",
    "\n",
    "nb_machines = 1;\n",
    "@axis(M, 1:nb_machines);\n",
    "J = 1:nb_jobs;\n",
    "\n",
    "@variable(model, x[m in M, j in J], Bin);\n",
    "@constraint(model, cov[j in J], sum(x[m,j] for m in M) == 1);\n",
    "@objective(model, Min, sum(c[m,j]*x[m,j] for m in M, j in J));\n",
    "@dantzig_wolfe_decomposition(model, dwdec, M);\n",
    "using KnapsackLib;\n",
    "function my_pricing_callback(cbdata)\n",
    "    # Retrieve the index of the subproblem (it will be one of the values in M)\n",
    "    cur_machine = BD.callback_spid(cbdata, model)\n",
    "\n",
    "    # Retrieve reduced costs of subproblem variables\n",
    "    red_costs = [BD.callback_reduced_cost(cbdata, x[cur_machine, j]) for j in J]\n",
    "    println(\"RD = \", red_costs)\n",
    "    # Keep jobs with negative reduced costs\n",
    "    selected_jobs = Int[]\n",
    "    selected_costs = Int[]\n",
    "    for j in J\n",
    "        if red_costs[j] <= 0.0\n",
    "            push!(selected_jobs, j)\n",
    "            # scale reduced costs to int\n",
    "            push!(selected_costs, -round(Int, 10000 * red_costs[j]))\n",
    "        end\n",
    "    end\n",
    "\n",
    "    if sum(w[cur_machine, selected_jobs]) <= Q[cur_machine]\n",
    "        # Don't need to run the algorithm,\n",
    "        # all jobs with negative reduced cost are assigned to the machine\n",
    "        jobs_assigned_to_cur_machine = selected_jobs\n",
    "    else\n",
    "        # Run the algorithm\n",
    "        items = [KnapItem(w,c) for (w,c) in zip(w[cur_machine, selected_jobs], selected_costs)]\n",
    "        data = KnapData(Q[cur_machine], items)\n",
    "\n",
    "        # Solve the knapsack with the algorithm from KnapsackLib\n",
    "        _, jobs_assigned_to_cur_machine = solveKnapExpCore(data)\n",
    "    end\n",
    "\n",
    "    # Create the solution (send only variables with non-zero values)\n",
    "    sol_vars = [x[cur_machine, j] for j in jobs_assigned_to_cur_machine]\n",
    "    sol_vals = [1.0 for _ in jobs_assigned_to_cur_machine]\n",
    "    sol_cost = sum(red_costs[j] for j in jobs_assigned_to_cur_machine)\n",
    "    println(\"sol_vars = \", sol_vars)\n",
    "    println(\"sol_vals = \", sol_vals)\n",
    "    println(\"sol_cost = \", sol_cost)\n",
    "    # Submit the solution to the subproblem to Coluna\n",
    "    MOI.submit(model, BD.PricingSolution(cbdata), sol_cost, sol_vars, sol_vals)\n",
    "    return\n",
    "end\n",
    "subproblems = BD.getsubproblems(dwdec);\n",
    "BD.specify!.(subproblems, lower_multiplicity = 0, solver = my_pricing_callback);\n",
    "optimize!(model);\n",
    "println(objective_value(model))"
   ]
  },
  {
   "cell_type": "code",
   "execution_count": 3,
   "metadata": {},
   "outputs": [
    {
     "ename": "UndefVarError",
     "evalue": "UndefVarError: Pkg not defined",
     "output_type": "error",
     "traceback": [
      "UndefVarError: Pkg not defined",
      "",
      "Stacktrace:",
      " [1] top-level scope at In[3]:1"
     ]
    }
   ],
   "source": [
    "using"
   ]
  },
  {
   "cell_type": "code",
   "execution_count": null,
   "metadata": {},
   "outputs": [],
   "source": []
  }
 ],
 "metadata": {
  "kernelspec": {
   "display_name": "Julia 1.0.5",
   "language": "julia",
   "name": "julia-1.0"
  },
  "language_info": {
   "file_extension": ".jl",
   "mimetype": "application/julia",
   "name": "julia",
   "version": "1.0.5"
  }
 },
 "nbformat": 4,
 "nbformat_minor": 4
}
