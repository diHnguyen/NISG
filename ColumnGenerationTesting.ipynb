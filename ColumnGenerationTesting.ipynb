{
 "cells": [
  {
   "cell_type": "code",
   "execution_count": 9,
   "metadata": {},
   "outputs": [
    {
     "data": {
      "text/plain": [
       "2×5000 Array{Int64,2}:\n",
       " 6   7  7   2  5  2  2   2   5  8  6  …  7  3  5  1  8  3  9  5  2  8  6  6\n",
       " 6  10  7  10  6  6  6  10  10  2  5     6  5  4  3  3  6  9  3  8  4  7  2"
      ]
     },
     "execution_count": 9,
     "metadata": {},
     "output_type": "execute_result"
    }
   ],
   "source": [
    "using JuMP\n",
    "using Gurobi\n",
    "using TimerOutputs\n",
    "to = TimerOutput()\n",
    "N = 5000\n",
    "A = rand((1:10),(2,N))"
   ]
  },
  {
   "cell_type": "code",
   "execution_count": 10,
   "metadata": {},
   "outputs": [
    {
     "name": "stdout",
     "output_type": "stream",
     "text": [
      "Academic license - for non-commercial use only\r\n",
      "26.429999828338623\n"
     ]
    }
   ],
   "source": [
    "start = time()\n",
    "gurobi_env = Gurobi.Env()\n",
    "setparams!(gurobi_env, Heuristics=0.0, Cuts = 0, OutputFlag = 0)\n",
    "m = Model(() -> Gurobi.Optimizer(gurobi_env))\n",
    "@variable(m, y[1:N]>=0)\n",
    "@objective(m, Min, y[1])\n",
    "\n",
    "con1 = @constraint(m, A[1,1]* y[1] >= 0)\n",
    "con2 = @constraint(m, A[2,1]* y[1] >= 0)\n",
    "# println(m)\n",
    "for t = 2:N\n",
    "    set_normalized_coefficient(con1, y[t], A[1,t])\n",
    "    set_normalized_coefficient(con2, y[t], A[2,t])\n",
    "    @objective(m, Min, sum(y[l] for l = 1:t))\n",
    "#     println(m)\n",
    "    optimize!(m)\n",
    "end\n",
    "totalTime = time()-start\n",
    "println(totalTime)"
   ]
  },
  {
   "cell_type": "code",
   "execution_count": 12,
   "metadata": {},
   "outputs": [
    {
     "name": "stdout",
     "output_type": "stream",
     "text": [
      "60.73099994659424\n"
     ]
    }
   ],
   "source": [
    "start = time()\n",
    "function MP(t,A)\n",
    "    m = Model(() -> Gurobi.Optimizer(gurobi_env))\n",
    "    @variable(m, y[1:t]>=0)\n",
    "    @objective(m, Min, sum(y[l] for l = 1:t))\n",
    "    con1 = @constraint(m, sum(A[1,l]* y[l] for l=1:t) >= 0)\n",
    "    con2 = @constraint(m, sum(A[2,l]* y[l] for l=1:t) >= 0)\n",
    "    optimize!(m)\n",
    "end\n",
    "\n",
    "for t = 1:N\n",
    "    MP(t, A)\n",
    "end\n",
    "totalTime = time()-start\n",
    "println(totalTime)"
   ]
  },
  {
   "cell_type": "code",
   "execution_count": null,
   "metadata": {},
   "outputs": [],
   "source": []
  }
 ],
 "metadata": {
  "kernelspec": {
   "display_name": "Julia 1.0.5",
   "language": "julia",
   "name": "julia-1.0"
  },
  "language_info": {
   "file_extension": ".jl",
   "mimetype": "application/julia",
   "name": "julia",
   "version": "1.0.5"
  }
 },
 "nbformat": 4,
 "nbformat_minor": 4
}
