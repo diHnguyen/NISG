{
 "cells": [
  {
   "cell_type": "code",
   "execution_count": 1,
   "metadata": {},
   "outputs": [
    {
     "data": {
      "text/plain": [
       "2×5000 Array{Int64,2}:\n",
       " 2  6  9  6  10  10  4  1  6  6   7  …  3  6  9  7  1  10  6  1  1  7  2  5\n",
       " 7  3  8  3   5   8  9  3  4  5  10     8  4  9  1  2   7  6  4  5  7  9  2"
      ]
     },
     "execution_count": 1,
     "metadata": {},
     "output_type": "execute_result"
    }
   ],
   "source": [
    "using JuMP\n",
    "using Gurobi\n",
    "using TimerOutputs\n",
    "to = TimerOutput()\n",
    "N = 5000\n",
    "A = rand((1:10),(2,N))"
   ]
  },
  {
   "cell_type": "code",
   "execution_count": 3,
   "metadata": {},
   "outputs": [
    {
     "data": {
      "text/plain": [
       "v\"0.8.1\""
      ]
     },
     "execution_count": 3,
     "metadata": {},
     "output_type": "execute_result"
    }
   ],
   "source": [
    "using Pkg\n",
    "pkgs = Pkg.installed();\n",
    "pkgs[\"Gurobi\"]"
   ]
  },
  {
   "cell_type": "code",
   "execution_count": 4,
   "metadata": {},
   "outputs": [
    {
     "name": "stdout",
     "output_type": "stream",
     "text": [
      "42.11400008201599\n"
     ]
    }
   ],
   "source": [
    "start = time()\n",
    "gurobi_env = Gurobi.Env()\n",
    "setparams!(gurobi_env, Heuristics=0.0, Cuts = 0, OutputFlag = 0)\n",
    "m = Model(() -> Gurobi.Optimizer(gurobi_env))\n",
    "@variable(m, y[1:N]>=0)\n",
    "@objective(m, Min, y[1])\n",
    "\n",
    "con1 = @constraint(m, A[1,1]* y[1] >= 0)\n",
    "con2 = @constraint(m, A[2,1]* y[1] >= 0)\n",
    "# println(m)\n",
    "for t = 2:N\n",
    "    set_normalized_coefficient(con1, y[t], A[1,t])\n",
    "    set_normalized_coefficient(con2, y[t], A[2,t])\n",
    "    @objective(m, Min, sum(y[l] for l = 1:t))\n",
    "#     println(m)\n",
    "    optimize!(m)\n",
    "end\n",
    "totalTime = time()-start\n",
    "println(totalTime)"
   ]
  },
  {
   "cell_type": "code",
   "execution_count": 5,
   "metadata": {},
   "outputs": [
    {
     "name": "stdout",
     "output_type": "stream",
     "text": [
      "62.60899996757507\n"
     ]
    }
   ],
   "source": [
    "start = time()\n",
    "function MP(t,A)\n",
    "    m = Model(() -> Gurobi.Optimizer(gurobi_env))\n",
    "    @variable(m, y[1:t]>=0)\n",
    "    @objective(m, Min, sum(y[l] for l = 1:t))\n",
    "    con1 = @constraint(m, sum(A[1,l]* y[l] for l=1:t) >= 0)\n",
    "    con2 = @constraint(m, sum(A[2,l]* y[l] for l=1:t) >= 0)\n",
    "    optimize!(m)\n",
    "end\n",
    "\n",
    "for t = 1:N\n",
    "    MP(t, A)\n",
    "end\n",
    "totalTime = time()-start\n",
    "println(totalTime)"
   ]
  },
  {
   "cell_type": "code",
   "execution_count": 13,
   "metadata": {},
   "outputs": [
    {
     "data": {
      "text/plain": [
       "SP (generic function with 1 method)"
      ]
     },
     "execution_count": 13,
     "metadata": {},
     "output_type": "execute_result"
    }
   ],
   "source": [
    "#Multiple Interdiction/Monitoring\n",
    "\n",
    "using JuMP\n",
    "using Gurobi\n",
    "using TimerOutputs\n",
    "\n",
    "global v = 10\n",
    "global C = 2\n",
    "global numPaths = 4\n",
    "# include(\"./ConstructQD.jl\")\n",
    "global Q = [-C -C v v;\n",
    "    v v -C v;\n",
    "    v v v -C;\n",
    "    -C v v v;\n",
    "    v -C v v;\n",
    "    -C v -C -C;\n",
    "    v v v -C;\n",
    "    -C -C v v;\n",
    "    -C -C -C v;\n",
    "    -C -C v -C;\n",
    "    -C -C v v;\n",
    "    -C -C v v;\n",
    "    -C -C -C v;\n",
    "    -C -C v -C;\n",
    "    -C -C -C -C;\n",
    "    v v -C -C;\n",
    "    v v -C -C;\n",
    "    -C v -C -C;\n",
    "    v -C -C -C;\n",
    "    -C v -C -C;\n",
    "    v v -C -C]\n",
    "global numMonitor = length(Q[:,1])\n",
    "\n",
    "function SP(Q,y,sizeL,numMonitor)\n",
    "    SP = Model(() -> Gurobi.Optimizer(gurobi_env))\n",
    "    # @variable(m, y[1:numMonitor]>=0)\n",
    "    @variable(SP, z[1:numPaths] >= 0)\n",
    "    zcon = @constraint(SP,sum(z[1:sizeL]) == 1)\n",
    "    @objective(SP, Max, sum(sum(y[k]*Q[k,l] for k = 1:numMonitor)*z[l] for l = 1:sizeL))\n",
    "    optimize!(SP)\n",
    "    obj = JuMP.objective_value.(SP)\n",
    "    z_now = JuMP.value.(z)\n",
    "    dual = JuMP.dual(zcon)\n",
    "    println(dual)\n",
    "    reducedCost = 0\n",
    "    chosenPath = 0\n",
    "    for l = (sizeL+1):numPaths\n",
    "        if dual - sum(y[k]*Q[k,l] for k = 1:numMonitor) < reducedCost\n",
    "            chosenPath = l\n",
    "        end\n",
    "    end\n",
    "    return obj, z_now, dual, chosenPath\n",
    "end\n",
    "# function reducedCost(dual, Q, y, sizeL)\n",
    "#     "
   ]
  },
  {
   "cell_type": "code",
   "execution_count": 14,
   "metadata": {},
   "outputs": [
    {
     "name": "stdout",
     "output_type": "stream",
     "text": [
      "0.0\n"
     ]
    }
   ],
   "source": [
    "\n",
    "gurobi_env = Gurobi.Env()\n",
    "setparams!(gurobi_env, Heuristics=0.0, Cuts = 0, OutputFlag = 0)\n",
    "m = Model(() -> Gurobi.Optimizer(gurobi_env))\n",
    "@variable(m, y[1:numMonitor]>=0)\n",
    "@variable(m, w >= -1e6)\n",
    "# @variable(m, z[1:numPaths] >= 0)\n",
    "@objective(m, Min, w)\n",
    "\n",
    "for iter = 1:1\n",
    "    global Q\n",
    "    global numMonitor\n",
    "#     @constraint(m, w)\n",
    "    optimize!(m)\n",
    "    obj = JuMP.objective_value.(m)\n",
    "    y_now = JuMP.value.(y)\n",
    "    obj, z_now, dual, chosenPath = SP(Q,y_now,iter,numMonitor)\n",
    "end\n",
    "# println(m)\n"
   ]
  },
  {
   "cell_type": "code",
   "execution_count": null,
   "metadata": {},
   "outputs": [],
   "source": []
  }
 ],
 "metadata": {
  "kernelspec": {
   "display_name": "Julia 1.0.5",
   "language": "julia",
   "name": "julia-1.0"
  },
  "language_info": {
   "file_extension": ".jl",
   "mimetype": "application/julia",
   "name": "julia",
   "version": "1.0.5"
  }
 },
 "nbformat": 4,
 "nbformat_minor": 4
}
