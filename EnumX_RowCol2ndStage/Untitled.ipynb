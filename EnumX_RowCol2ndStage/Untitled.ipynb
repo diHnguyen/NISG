{
 "cells": [
  {
   "cell_type": "code",
   "execution_count": null,
   "metadata": {},
   "outputs": [],
   "source": [
    "a = rand(1:10,10)"
   ]
  },
  {
   "cell_type": "code",
   "execution_count": null,
   "metadata": {},
   "outputs": [],
   "source": [
    "using Statistics, TimerOutputs"
   ]
  },
  {
   "cell_type": "code",
   "execution_count": null,
   "metadata": {},
   "outputs": [],
   "source": [
    "b = a[findall(a.>=3)]"
   ]
  },
  {
   "cell_type": "code",
   "execution_count": null,
   "metadata": {},
   "outputs": [],
   "source": [
    "using Statistics, TimerOutputs"
   ]
  },
  {
   "cell_type": "code",
   "execution_count": null,
   "metadata": {},
   "outputs": [],
   "source": [
    "start = time()\n",
    "for iter = 1:10^8\n",
    "    val = 1\n",
    "    A = zeros(11)\n",
    "    for i = 1:11\n",
    "        A[i] = val\n",
    "        val = val*2 \n",
    "    end\n",
    "end\n",
    "println(time() - start)"
   ]
  },
  {
   "cell_type": "code",
   "execution_count": null,
   "metadata": {},
   "outputs": [],
   "source": [
    "start = time()\n",
    "for iter = 1:10^8\n",
    "    A = [2^i for i=0:10]\n",
    "end\n",
    "println(time() - start)"
   ]
  },
  {
   "cell_type": "code",
   "execution_count": 23,
   "metadata": {},
   "outputs": [
    {
     "name": "stdout",
     "output_type": "stream",
     "text": [
      "Array [1, 9, 2, 3, 9, 8, 10, 2, 9, 10, 9, 1, 3, 3, 10, 3, 6, 6, 4, 1]\n"
     ]
    }
   ],
   "source": [
    "using Statistics, TimerOutputs\n",
    "randomArray = rand(1:10, 20)\n",
    "println(\"Array \", randomArray)"
   ]
  },
  {
   "cell_type": "code",
   "execution_count": 26,
   "metadata": {},
   "outputs": [
    {
     "name": "stdout",
     "output_type": "stream",
     "text": [
      "23.896000146865845\n",
      "Avg = 6.8\n"
     ]
    }
   ],
   "source": [
    "start = time()\n",
    "avg = 0\n",
    "for iter = 1:10^7\n",
    "    avg = 0\n",
    "    counter = 0\n",
    "    for i in randomArray\n",
    "        if i >= 3\n",
    "            avg = (avg*counter + i)/(counter+1)\n",
    "            counter +=1\n",
    "        end\n",
    "    end\n",
    "end\n",
    "println(time() - start)\n",
    "println(\"Avg = \", avg)"
   ]
  },
  {
   "cell_type": "code",
   "execution_count": 27,
   "metadata": {},
   "outputs": [
    {
     "name": "stdout",
     "output_type": "stream",
     "text": [
      "12.845999956130981\n",
      "Avg = 6.8\n"
     ]
    }
   ],
   "source": [
    "start = time()\n",
    "avg = 0\n",
    "for iter = 1:10^7\n",
    "    b = randomArray[findall(randomArray.>=3)]\n",
    "    avg = mean(b)\n",
    "end\n",
    "println(time() - start)\n",
    "println(\"Avg = \", avg)"
   ]
  },
  {
   "cell_type": "code",
   "execution_count": null,
   "metadata": {},
   "outputs": [],
   "source": []
  },
  {
   "cell_type": "code",
   "execution_count": null,
   "metadata": {},
   "outputs": [],
   "source": []
  }
 ],
 "metadata": {
  "kernelspec": {
   "display_name": "Julia 1.0.5",
   "language": "julia",
   "name": "julia-1.0"
  },
  "language_info": {
   "file_extension": ".jl",
   "mimetype": "application/julia",
   "name": "julia",
   "version": "1.0.5"
  }
 },
 "nbformat": 4,
 "nbformat_minor": 4
}
