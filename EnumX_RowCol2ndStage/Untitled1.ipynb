{
 "cells": [
  {
   "cell_type": "code",
   "execution_count": 133,
   "metadata": {},
   "outputs": [],
   "source": [
    "import time\n",
    "from numpy import random\n",
    "from statistics  import mean"
   ]
  },
  {
   "cell_type": "code",
   "execution_count": 154,
   "metadata": {},
   "outputs": [
    {
     "name": "stdout",
     "output_type": "stream",
     "text": [
      "2.634265899658203\n"
     ]
    }
   ],
   "source": [
    "start = time.time()\n",
    "for rep in range(1,10**6):\n",
    "    val = 1\n",
    "    A =  [0 for i in range(30)]\n",
    "    for i in range(0,10):\n",
    "        A[i] = val\n",
    "        val = val*2 \n",
    "print(time.time() - start)\n",
    "# print(A)"
   ]
  },
  {
   "cell_type": "code",
   "execution_count": 155,
   "metadata": {},
   "outputs": [
    {
     "name": "stdout",
     "output_type": "stream",
     "text": [
      "5.827367305755615\n"
     ]
    }
   ],
   "source": [
    "start = time.time()\n",
    "for rep in range(1,10**6):\n",
    "    A = [2**i for i in range(30)]\n",
    "print(time.time() - start)\n",
    "# print(A)"
   ]
  },
  {
   "cell_type": "code",
   "execution_count": null,
   "metadata": {},
   "outputs": [],
   "source": []
  },
  {
   "cell_type": "code",
   "execution_count": null,
   "metadata": {},
   "outputs": [],
   "source": []
  },
  {
   "cell_type": "code",
   "execution_count": 160,
   "metadata": {},
   "outputs": [
    {
     "name": "stdout",
     "output_type": "stream",
     "text": [
      "Array  [5 7 7 4 3 1 8 4 1 1 6 7 7 2 1 8 1 5 2 8 9 7 8 7 3 1 2 1 8 5]\n"
     ]
    }
   ],
   "source": [
    "randomArray = random.randint(1,10,30)\n",
    "print(\"Array \", randomArray)"
   ]
  },
  {
   "cell_type": "code",
   "execution_count": 174,
   "metadata": {},
   "outputs": [
    {
     "name": "stdout",
     "output_type": "stream",
     "text": [
      "2.2558438777923584\n",
      "Avg =  6.3\n"
     ]
    }
   ],
   "source": [
    "start = time.time()\n",
    "avg = 0\n",
    "for rep in range(1,10**5):\n",
    "    avg = 0\n",
    "    counter = 0\n",
    "    for i in randomArray:\n",
    "        if i >= 3:\n",
    "            avg = (avg*counter + i)/(counter+1)\n",
    "            counter +=1\n",
    "print(time.time() - start)\n",
    "print(\"Avg = \", avg)"
   ]
  },
  {
   "cell_type": "code",
   "execution_count": 176,
   "metadata": {},
   "outputs": [
    {
     "name": "stdout",
     "output_type": "stream",
     "text": [
      "0.6370716094970703\n",
      "Avg =  6.3\n"
     ]
    }
   ],
   "source": [
    "start = time.time() \n",
    "avg = 0\n",
    "for rep in range(1,10**5):\n",
    "    avg = randomArray[randomArray>=3].mean()\n",
    "print(time.time() - start)\n",
    "print(\"Avg = \", avg)\n"
   ]
  },
  {
   "cell_type": "code",
   "execution_count": 125,
   "metadata": {},
   "outputs": [
    {
     "data": {
      "text/plain": [
       "5.8"
      ]
     },
     "execution_count": 125,
     "metadata": {},
     "output_type": "execute_result"
    }
   ],
   "source": [
    "29/5"
   ]
  },
  {
   "cell_type": "code",
   "execution_count": 142,
   "metadata": {},
   "outputs": [
    {
     "data": {
      "text/plain": [
       "1000"
      ]
     },
     "execution_count": 142,
     "metadata": {},
     "output_type": "execute_result"
    }
   ],
   "source": [
    "10**3"
   ]
  },
  {
   "cell_type": "code",
   "execution_count": null,
   "metadata": {},
   "outputs": [],
   "source": []
  }
 ],
 "metadata": {
  "kernelspec": {
   "display_name": "Python 3",
   "language": "python",
   "name": "python3"
  },
  "language_info": {
   "codemirror_mode": {
    "name": "ipython",
    "version": 3
   },
   "file_extension": ".py",
   "mimetype": "text/x-python",
   "name": "python",
   "nbconvert_exporter": "python",
   "pygments_lexer": "ipython3",
   "version": "3.8.5"
  }
 },
 "nbformat": 4,
 "nbformat_minor": 4
}
