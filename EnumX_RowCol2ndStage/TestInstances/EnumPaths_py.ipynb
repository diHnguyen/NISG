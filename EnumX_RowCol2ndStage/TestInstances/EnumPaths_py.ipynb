{
 "cells": [
  {
   "cell_type": "code",
   "execution_count": 115,
   "metadata": {},
   "outputs": [
    {
     "name": "stdout",
     "output_type": "stream",
     "text": [
      "N50_d10_1.jl\n",
      "\n"
     ]
    },
    {
     "ename": "KeyboardInterrupt",
     "evalue": "",
     "output_type": "error",
     "traceback": [
      "\u001b[1;31m---------------------------------------------------------------------------\u001b[0m",
      "\u001b[1;31mKeyboardInterrupt\u001b[0m                         Traceback (most recent call last)",
      "\u001b[1;32m<ipython-input-115-1eadb9b3c553>\u001b[0m in \u001b[0;36m<module>\u001b[1;34m\u001b[0m\n\u001b[0;32m     53\u001b[0m             \u001b[0mu\u001b[0m \u001b[1;33m=\u001b[0m \u001b[0marc\u001b[0m\u001b[1;33m[\u001b[0m\u001b[1;36m0\u001b[0m\u001b[1;33m]\u001b[0m\u001b[1;33m\u001b[0m\u001b[1;33m\u001b[0m\u001b[0m\n\u001b[0;32m     54\u001b[0m             \u001b[0mv\u001b[0m \u001b[1;33m=\u001b[0m \u001b[0marc\u001b[0m\u001b[1;33m[\u001b[0m\u001b[1;36m1\u001b[0m\u001b[1;33m]\u001b[0m\u001b[1;33m\u001b[0m\u001b[1;33m\u001b[0m\u001b[0m\n\u001b[1;32m---> 55\u001b[1;33m             \u001b[0mP\u001b[0m\u001b[1;33m.\u001b[0m\u001b[0mappend\u001b[0m\u001b[1;33m(\u001b[0m\u001b[0mA\u001b[0m\u001b[1;33m.\u001b[0m\u001b[0mindex\u001b[0m\u001b[1;33m(\u001b[0m\u001b[1;33m[\u001b[0m\u001b[0mu\u001b[0m\u001b[1;33m,\u001b[0m\u001b[0mv\u001b[0m\u001b[1;33m]\u001b[0m\u001b[1;33m)\u001b[0m\u001b[1;33m+\u001b[0m\u001b[1;36m1\u001b[0m\u001b[1;33m)\u001b[0m\u001b[1;33m\u001b[0m\u001b[1;33m\u001b[0m\u001b[0m\n\u001b[0m\u001b[0;32m     56\u001b[0m         \u001b[0mP_set\u001b[0m\u001b[1;33m.\u001b[0m\u001b[0mappend\u001b[0m\u001b[1;33m(\u001b[0m\u001b[0mP\u001b[0m\u001b[1;33m)\u001b[0m\u001b[1;33m\u001b[0m\u001b[1;33m\u001b[0m\u001b[0m\n\u001b[0;32m     57\u001b[0m \u001b[1;31m#     print(P_set)\u001b[0m\u001b[1;33m\u001b[0m\u001b[1;33m\u001b[0m\u001b[1;33m\u001b[0m\u001b[0m\n",
      "\u001b[1;31mKeyboardInterrupt\u001b[0m: "
     ]
    }
   ],
   "source": [
    "import networkx as nx\n",
    "import re\n",
    "import pandas as pd\n",
    "import numpy as np\n",
    "import os\n",
    "import matplotlib.pyplot as plt\n",
    "import ast\n",
    "import sys\n",
    "\n",
    "location = \"Documents/GitHub/UncertainTarget/EnumX_RowCol2ndStage/TestInstances/\"\n",
    "dataSet = \"N50_d10_\"\n",
    "for i in range(5):\n",
    "    ins = i+1\n",
    "\n",
    "    filename = dataSet+str(ins)+\".jl\"\n",
    "    print(filename)\n",
    "    filePath = os.path.join(location, filename)\n",
    "    thisFile = open(filename, \"r\")\n",
    "    arcs = thisFile.readlines()[0]\n",
    "    thisFile.close()\n",
    "    arcs = arcs.replace('arcs = ', '')\n",
    "    arcs = arcs.replace(';', '')\n",
    "    arcs = arcs.replace('[', '')\n",
    "    arcs = arcs.replace(']\\n', '')\n",
    "    elem = arcs.split(' ')\n",
    "#     print(elem)\n",
    "\n",
    "    arcNum = int(len(elem)/2)\n",
    "#     print('arcNum ', arcNum)\n",
    "    G = nx.DiGraph()\n",
    "#     print(G)\n",
    "\n",
    "    A = []\n",
    "    for i in range(arcNum):\n",
    "    #     print('i = ', i)\n",
    "    #     print(2*i, '\\t', 2*i + 1)\n",
    "        u = int(elem[2*i].strip())\n",
    "        v = int(elem[2*i+1].strip())\n",
    "        e = [u,v]\n",
    "        A.append(e)\n",
    "    #     print('(',u,',',v,')')\n",
    "        G.add_edge(u, v)\n",
    "    # G = nx.complete_graph(4)\n",
    "    print(G)\n",
    "    P_set = []\n",
    "    paths = nx.all_simple_paths(G, source=1, target=10)\n",
    "\n",
    "    for path in map(nx.utils.pairwise, paths):\n",
    "        lp = list(path)\n",
    "#         print(lp)\n",
    "        P = []\n",
    "        for arc in lp:\n",
    "            u = arc[0]\n",
    "            v = arc[1]\n",
    "            P.append(A.index([u,v])+1)\n",
    "        P_set.append(P)\n",
    "#     print(P_set)\n",
    "\n",
    "    # thisFile = open(filename, \"r\")\n",
    "    f = open(\"FullP_\"+filename, \"w\")\n",
    "    f.write(\"P_set = \"+ str(P_set))\n",
    "    f.close()"
   ]
  },
  {
   "cell_type": "code",
   "execution_count": 32,
   "metadata": {},
   "outputs": [
    {
     "data": {
      "text/plain": [
       "'1 3 1 9 2 5 2 8 3 2 3 4 4 7 5 7 6 10 7 2 8 6 8 10 9 3 9 4 9 7'"
      ]
     },
     "execution_count": 32,
     "metadata": {},
     "output_type": "execute_result"
    }
   ],
   "source": [
    "arcs "
   ]
  },
  {
   "cell_type": "code",
   "execution_count": 99,
   "metadata": {},
   "outputs": [
    {
     "name": "stdout",
     "output_type": "stream",
     "text": [
      "1 3\n",
      "3 2\n",
      "2 8\n",
      "8 6\n",
      "6 10\n"
     ]
    }
   ],
   "source": [
    "for i in [0, 4, 3, 10, 8]:\n",
    "    u = int(elem[2*i].strip())\n",
    "    v = int(elem[2*i+1].strip())\n",
    "    print(u,v)"
   ]
  },
  {
   "cell_type": "code",
   "execution_count": 44,
   "metadata": {},
   "outputs": [
    {
     "data": {
      "image/png": "[encoded data removed]",
      "text/plain": [
       "<Figure size 432x288 with 1 Axes>"
      ]
     },
     "metadata": {},
     "output_type": "display_data"
    }
   ],
   "source": [
    "nx.draw(G, with_labels=True, font_weight='bold')"
   ]
  },
  {
   "cell_type": "code",
   "execution_count": 39,
   "metadata": {},
   "outputs": [
    {
     "data": {
      "text/plain": [
       "[1, 3, 9, 2, 5, 8, 4, 7, 6, 10]"
      ]
     },
     "execution_count": 39,
     "metadata": {},
     "output_type": "execute_result"
    }
   ],
   "source": [
    "list(G.nodes)"
   ]
  },
  {
   "cell_type": "code",
   "execution_count": 40,
   "metadata": {},
   "outputs": [
    {
     "data": {
      "text/plain": [
       "[(1, 3),\n",
       " (1, 9),\n",
       " (3, 2),\n",
       " (3, 4),\n",
       " (9, 3),\n",
       " (9, 4),\n",
       " (9, 7),\n",
       " (2, 5),\n",
       " (2, 8),\n",
       " (5, 7),\n",
       " (8, 6),\n",
       " (8, 10),\n",
       " (4, 7),\n",
       " (7, 2),\n",
       " (6, 10)]"
      ]
     },
     "execution_count": 40,
     "metadata": {},
     "output_type": "execute_result"
    }
   ],
   "source": [
    "list(G.edges)"
   ]
  },
  {
   "cell_type": "code",
   "execution_count": 62,
   "metadata": {},
   "outputs": [
    {
     "name": "stdout",
     "output_type": "stream",
     "text": [
      "(1, 9)\n",
      "(3, 4)\n",
      "(3, 2)\n",
      "(2, 8)\n",
      "(9, 7)\n",
      "(8, 6)\n"
     ]
    }
   ],
   "source": [
    "for i in [1, 3, 2, 8, 6, 10]:\n",
    "    print(list(G.edges)[i])"
   ]
  },
  {
   "cell_type": "code",
   "execution_count": 43,
   "metadata": {},
   "outputs": [
    {
     "data": {
      "text/plain": [
       "[5, 8]"
      ]
     },
     "execution_count": 43,
     "metadata": {},
     "output_type": "execute_result"
    }
   ],
   "source": [
    "list(G.successors(2)) "
   ]
  },
  {
   "cell_type": "code",
   "execution_count": null,
   "metadata": {},
   "outputs": [],
   "source": []
  }
 ],
 "metadata": {
  "kernelspec": {
   "display_name": "Python 3",
   "language": "python",
   "name": "python3"
  },
  "language_info": {
   "codemirror_mode": {
    "name": "ipython",
    "version": 3
   },
   "file_extension": ".py",
   "mimetype": "text/x-python",
   "name": "python",
   "nbconvert_exporter": "python",
   "pygments_lexer": "ipython3",
   "version": "3.8.5"
  }
 },
 "nbformat": 4,
 "nbformat_minor": 4
}
