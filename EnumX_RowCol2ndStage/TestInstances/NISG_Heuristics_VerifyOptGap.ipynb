{
 "cells": [
  {
   "cell_type": "code",
   "execution_count": 315,
   "metadata": {},
   "outputs": [
    {
     "name": "stdout",
     "output_type": "stream",
     "text": [
      "Academic license - for non-commercial use only - expires 2022-12-04\n"
     ]
    },
    {
     "name": "stderr",
     "output_type": "stream",
     "text": [
      "WARNING: redefining constant gurobi_env\n"
     ]
    },
    {
     "data": {
      "text/plain": [
       "randMonitor (generic function with 1 method)"
      ]
     },
     "execution_count": 315,
     "metadata": {},
     "output_type": "execute_result"
    }
   ],
   "source": [
    "using JuMP, Gurobi, Combinatorics, LightGraphs\n",
    "\n",
    "# function solveMP()\n",
    "const gurobi_env = Gurobi.Env()\n",
    "\n",
    "function randPath(u,x,y,P_set, M_set, numPaths, numY)\n",
    "    print(\"Start randPath \\t \")\n",
    "    global origin, destination\n",
    "    Nset = []\n",
    "    Aset = []\n",
    "    simP = true\n",
    "    u = origin\n",
    "    push!(Nset, u)\n",
    "    y_pos = findall(y.>0)\n",
    "    M_pos = M_set[y_pos]\n",
    "#     println(\"\\tINSIDE randPath ==== \")\n",
    "#     println(\"\\ty_pos = \", y_pos)\n",
    "#     println(\"\\tM_pos = \", M_pos)\n",
    "    while u != destination && simP == true\n",
    "#         println(\"At node \", u)\n",
    "        Q = 0\n",
    "        outArcs = findall(arcs[:, 1].== u)\n",
    "#         println(\"Outgoing arcs = \", outArcs)\n",
    "        p_Val = zeros(length(outArcs))\n",
    "        for i = 1:length(outArcs)\n",
    "            a = outArcs[i]\n",
    "            if x[a] == 1\n",
    "#                 println(\"\\t\", a, \" - interdicted\" )\n",
    "                p_Val[i] == 0\n",
    "            else\n",
    "                aM = findall((a in M_pos[m] for m = 1:length(M_pos)) .== true)\n",
    "#                 println(\"\\t\", a, \" - in Ms \", aM)\n",
    "                if isempty(aM) == false\n",
    "                    p_Val[i] = q[a]*sum(y[a] for a in aM)\n",
    "                else \n",
    "                    p_Val[i] = 1\n",
    "                end\n",
    "            end\n",
    "            Q = Q+p_Val[i]\n",
    "        end\n",
    "#         println(\"Q = \", Q)\n",
    "#         println(\"p_Val = \", p_Val)\n",
    "        if Q > 0\n",
    "            p_Val = p_Val./Q\n",
    "#             println(\"Normalized p_Val = \", p_Val)\n",
    "            r = rand()\n",
    "#             println(\"rnd = \", r)\n",
    "            i = 0\n",
    "            s_ = 0\n",
    "            while s_ < r\n",
    "                i = i+1\n",
    "#                 println(\" i = \", i)\n",
    "                s_ = s_ + p_Val[i]\n",
    "#                 println(\"s_ = \", s_)\n",
    "            end\n",
    "            a = outArcs[i]\n",
    "#             println(\"Selected arc a = \", a)\n",
    "            u = arcs[a, 2]\n",
    "#             println(\"Selected arc \", arcs[a, :])\n",
    "            if u in Nset\n",
    "                simP = false\n",
    "            end\n",
    "            push!(Nset, u)\n",
    "            push!(Aset, a)\n",
    "        else\n",
    "            simP = false\n",
    "        end\n",
    "    end\n",
    "    println(\"Complete - randPath\")\n",
    "    return Aset, simP\n",
    "end\n",
    "function rowGen(theta_sol,x_sol,y_sol,P_set, M_set, numPaths, numY, newPath)\n",
    "    print(\"Start rowGen \\t\")\n",
    "    P, simP = randPath(theta_sol,x_sol,y_sol,P_set, M_set, numPaths, numY)\n",
    "#     println(\"Begin rowGen simP = \", simP )\n",
    "    q_P = ones(numY)\n",
    "    if simP == true\n",
    "        P_path = 0\n",
    "#         println(\"P = \", P)\n",
    "        for m = 1:numY\n",
    "#             println(\"\\tm = \", m)\n",
    "            M = M_set[m]\n",
    "            M_P = intersect(M, P)\n",
    "            if length(M_P) > 0\n",
    "                q_P[m] = prod((1-q[a]) for a in M_P)\n",
    "            else\n",
    "                q_P[m] = 1\n",
    "            end\n",
    "            P_path = P_path + q_P[m]*y_sol[m]\n",
    "        end\n",
    "        if  P_path > theta_sol && (P in P_set) == false\n",
    "            newPath = true\n",
    "        end\n",
    "    end\n",
    "    println(\"Complete - rowGen\")\n",
    "    return P, q_P, newPath\n",
    "end\n",
    "function randMonitor(u,x,y,P_set, M_set, numPaths, numY)\n",
    "    print(\"Start randMonitor \\t\")\n",
    "    Aset = []\n",
    "    for i = 1:numPaths\n",
    "        P = P_set[i]\n",
    "        q_P = ones(numY)\n",
    "        P_path = 0\n",
    "        for m = 1:numY\n",
    "            M = M_set[m]\n",
    "            M_P = intersect(M, P)\n",
    "            if length(M_P) > 0\n",
    "                q_P[m] = prod((1-q[a]) for a in M_P)\n",
    "            else\n",
    "                q_P[m] = 1\n",
    "            end\n",
    "            P_path = P_path + q_P[m]*y_sol[m]\n",
    "        end\n",
    "        if  P_path -sum(x[a] for a in P) >= theta_sol \n",
    "            newPath = true\n",
    "#             println(\"\\tP_set = \", P_set)\n",
    "#             println(\"\\tAdd Path P = \", P_path)\n",
    "            Aset = vcat(Aset, P)\n",
    "        end\n",
    "    end\n",
    "    unique!(Aset)\n",
    "#     println(\"Aset = \", Aset)\n",
    "    M = []\n",
    "    B = b_y\n",
    "    \n",
    "\n",
    "    Aset = intersect(findall(d_y.<= B), Aset)\n",
    "    while isempty(Aset) == false\n",
    "        q_Aset = q[Aset]\n",
    "        Q = sum(q for q in q_Aset)\n",
    "        q_Aset = q_Aset./Q\n",
    "#         println(\"B_rem = \", B, \"A feas = \", Aset)\n",
    "        \n",
    "        r = rand()\n",
    "        i = 0\n",
    "        s_ = 0\n",
    "        while s_ < r\n",
    "            i = i+1\n",
    "            s_ = s_ + q_Aset[i]\n",
    "        end\n",
    "        a = Aset[i]\n",
    "        push!(M, a)\n",
    "        B = B - d_y[a]\n",
    "#         println(\"selected \", a)\n",
    "        deleteat!(Aset, i)\n",
    "        deleteat!(q_Aset, i)\n",
    "        Aset = intersect(findall(d_y.<= B), Aset)\n",
    "#         Aset = intersect(findall(d_y.<= B), Aset)\n",
    "#         if isempty(Aset) == false\n",
    "#             q_Aset = q[Aset]\n",
    "#             Q = sum(q for q in q_Aset)\n",
    "#             q_Aset = q_Aset./Q\n",
    "#         end\n",
    "    end\n",
    "    println(\"Complete  - randMonitor\")\n",
    "    return M\n",
    "end"
   ]
  },
  {
   "cell_type": "code",
   "execution_count": 316,
   "metadata": {},
   "outputs": [
    {
     "name": "stdout",
     "output_type": "stream",
     "text": [
      "Running...\n",
      "M_set = Array{Int64,1}[[1]]\n",
      "P0 = [1 8; 3 10; 5 3; 8 5]\n",
      "\t[2, 8, 12, 18]\n",
      "\n",
      "\n",
      "iter = 1: theta = 0.0\n",
      "Interdict = \t[8, 18]\t[3 10; 8 5]\n",
      "y_sol = \t[1.0]\t[1]\n",
      "\t\t Array{Int64,1}[[1]]\n",
      "Start rowGen \tStart randPath \t Complete - randPath\n",
      "Complete - rowGen\n",
      "Start rowGen \tStart randPath \t Complete - randPath\n",
      "Complete - rowGen\n",
      "Start rowGen \tStart randPath \t Complete - randPath\n",
      "Complete - rowGen\n",
      "Start rowGen \tStart randPath \t Complete - randPath\n",
      "Complete - rowGen\n",
      "Start rowGen \tStart randPath \t Complete - randPath\n",
      "Complete - rowGen\n",
      "Start colGenStart randMonitor \tComplete  - randMonitor\n",
      "new M = Any[]\n",
      "Complete - colGen\n",
      "\n",
      "\n",
      "iter = 2: theta = 0.0\n",
      "Interdict = \t[8, 18]\t[3 10; 8 5]\n",
      "y_sol = \t[1.0]\t[1]\n",
      "\t\t Array{Int64,1}[[1]]\n",
      "Start rowGen \tStart randPath \t Complete - randPath\n",
      "Complete - rowGen\n",
      "Start rowGen \tStart randPath \t Complete - randPath\n",
      "Complete - rowGen\n",
      "\tP_set = Array{Int64,1}[[2, 8, 12, 18]]\n",
      "\tAdd Path P = Any[2, 19, 16]\n",
      "Start rowGen \tStart randPath \t Complete - randPath\n",
      "Complete - rowGen\n",
      "\tP_set = Array{Int64,1}[[2, 8, 12, 18], [2, 19, 16]]\n",
      "\tAdd Path P = Any[2, 20, 17, 16]\n",
      "Start rowGen \tStart randPath \t Complete - randPath\n",
      "Complete - rowGen\n",
      "\tP_set = Array{Int64,1}[[2, 8, 12, 18], [2, 19, 16], [2, 20, 17, 16]]\n",
      "\tAdd Path P = Any[2, 19, 16]\n",
      "Start rowGen \tStart randPath \t Complete - randPath\n",
      "Complete - rowGen\n",
      "\tP_set = Array{Int64,1}[[2, 8, 12, 18], [2, 19, 16], [2, 20, 17, 16], [2, 19, 16]]\n",
      "\tAdd Path P = Any[1, 17, 16]\n",
      "\n",
      "\n",
      "iter = 3: theta = 0.0\n",
      "Interdict = \t[16, 17, 18]\t[6 10; 7 6; 8 5]\n",
      "y_sol = \t[1.0]\t[1]\n",
      "\t\t Array{Int64,1}[[1]]\n",
      "Start rowGen \tStart randPath \t Complete - randPath\n",
      "Complete - rowGen\n",
      "Start rowGen \tStart randPath \t Complete - randPath\n",
      "Complete - rowGen\n",
      "Start rowGen \tStart randPath \t Complete - randPath\n",
      "Complete - rowGen\n",
      "Start rowGen \tStart randPath \t Complete - randPath\n",
      "Complete - rowGen\n",
      "Start rowGen \tStart randPath \t Complete - randPath\n",
      "Complete - rowGen\n",
      "Start colGenStart randMonitor \tComplete  - randMonitor\n",
      "new M = Any[2, 8]\n",
      "Complete - colGen\n",
      "\n",
      "\n",
      "iter = 4: theta = 0.0\n",
      "Interdict = \t[16, 17, 18]\t[6 10; 7 6; 8 5]\n",
      "y_sol = \t[1.0]\t[2]\n",
      "\t\t Array{Int64,1}[[2, 8]]\n",
      "Start rowGen \tStart randPath \t Complete - randPath\n",
      "Complete - rowGen\n",
      "Start rowGen \tStart randPath \t Complete - randPath\n",
      "Complete - rowGen\n",
      "Start rowGen \tStart randPath \t Complete - randPath\n",
      "Complete - rowGen\n",
      "Start rowGen \tStart randPath \t Complete - randPath\n",
      "Complete - rowGen\n",
      "Start rowGen \tStart randPath \t Complete - randPath\n",
      "Complete - rowGen\n",
      "Start colGenStart randMonitor \tComplete  - randMonitor\n",
      "new M = Any[]\n",
      "Complete - colGen\n",
      "\n",
      "\n",
      "iter = 5: theta = 0.0\n",
      "Interdict = \t[16, 17, 18]\t[6 10; 7 6; 8 5]\n",
      "y_sol = \t[1.0]\t[2]\n",
      "\t\t Array{Int64,1}[[2, 8]]\n",
      "Start rowGen \tStart randPath \t Complete - randPath\n",
      "Complete - rowGen\n",
      "Start rowGen \tStart randPath \t Complete - randPath\n",
      "Complete - rowGen\n",
      "Start rowGen \tStart randPath \t Complete - randPath\n",
      "Complete - rowGen\n",
      "Start rowGen \tStart randPath \t Complete - randPath\n",
      "Complete - rowGen\n",
      "Start rowGen \tStart randPath \t Complete - randPath\n",
      "Complete - rowGen\n",
      "Start colGenStart randMonitor \tComplete  - randMonitor\n",
      "new M = Any[]\n",
      "Complete - colGen\n",
      "\n",
      "\n",
      "theta = 0.0\n",
      "x_sol = [0.0, 0.0, 0.0, 0.0, 0.0, 0.0, 0.0, 0.0, 0.0, 0.0, 0.0, 0.0, 0.0, 0.0, 0.0, 1.0, 1.0, 1.0, 0.0, 0.0, 0.0, 0.0]\n",
      "y_sol = \t[1.0]\n",
      "\t Array{Int64,1}[[2, 8]]\n"
     ]
    }
   ],
   "source": [
    "# setparams!(gurobi_env, OutputFlag = 0)\n",
    "\n",
    "ins = 1#ARGS[1] #:10\n",
    "dataSet = \"N10_d20_\"\n",
    "println(\"Running...\")\n",
    "# global prob = \"L\" #\"L\"\n",
    "#     include(\"./TestInstances/\"*fileName*\".jl\")\n",
    "global q = []\n",
    "include(\"./\"*dataSet*string(ins)*\".jl\")\n",
    "global numArcs = length(arcs[:,1])\n",
    "fileLoc = \"C:/Users/din/Documents/GitHub/UncertainTarget/EnumX_RowCol2ndStage\"\n",
    "include(fileLoc*\"/functionEnumFeasX.jl\")\n",
    "include(fileLoc*\"/functionShortestPathBellmanFord.jl\")# println(arcs)\n",
    "# println(numArcs)\n",
    "# global EnumY = EnumX(arcs, b_y, numArcs, d_y)\n",
    "M = [findall(d_y.<=b_y)[1]]\n",
    "global M_set = [M] #EnumY\n",
    "println(\"M_set = \", M_set)\n",
    "# push!(M_set,[19])\n",
    "# println(M_set)\n",
    "# break\n",
    "global numY = length(M_set)\n",
    "# println(EnumY)\n",
    "# println(\"q = \", q)\n",
    "\n",
    "path, gx = shortestPath_BellmanFord(q, arcs, numArcs, origin, destination)\n",
    "arcsinPath = findall(path.>0)\n",
    "println(\"P0 = \", arcs[arcsinPath,:])\n",
    "println(\"\\t\", arcsinPath)\n",
    "global P_set = [arcsinPath]\n",
    "global numPaths = 1\n",
    "global q_P1 = ones(numY)\n",
    "global F_P1M = 1\n",
    "global R = -sum(log(1-q_) for q_ in q)\n",
    "# println(\"M_set = \", M_set)\n",
    "for m = 1:numY\n",
    "    M = M_set[m]\n",
    "    \n",
    "    M_P = intersect(M, arcsinPath)\n",
    "    \n",
    "#     println(\"M_P \", M_P)\n",
    "    if length(M_P) > 0\n",
    "#     q_P[m] = prod((1-q[a]) for a in M_P)\n",
    "#     println(\"M = \", M)\n",
    "#     print(\"q_M = \", q[M])\n",
    "        q_P1[m] = prod((1-q[a]) for a in M_P)\n",
    "    else\n",
    "        q_P1[m] = 1\n",
    "    end\n",
    "#     println(\"M_set[m] = \", M_set[m])\n",
    "#     println(\"F_P1M = \", q_P1[m])\n",
    "end\n",
    "\n",
    "\n",
    "# println(q_P1)\n",
    "model = direct_model(Gurobi.Optimizer(gurobi_env))\n",
    "#     set_optimizer_attribute(model, \"Presolve\", 0)\n",
    "#     set_optimizer_attribute(model, \"Precrush\", 1)\n",
    "#     set_optimizer_attribute(model, \"DualReductions\", 0)\n",
    "#     set_optimizer_attribute(model, \"PreQLinearize\", 0)\n",
    "#     set_optimizer_attribute(model, \"Heuristics\", 0)\n",
    "#     set_optimizer_attribute(model, \"MIPGap\", 0)\n",
    "# set_optimizer_attribute(model, \"LazyConstraints\", 1)\n",
    "set_optimizer_attribute(model, \"OutputFlag\", 0)\n",
    "# global loc = \"./Documents/GitHub/UncertainTarget/EnumX_RowCol2ndStage/TestInstances/\"\n",
    "# println(\"Here\")\n",
    "# set_optimizer_attribute(model, \"LogFile\", loc*\"L_\"*dataSet*prob*\"_\"*string(ins)*\".log\")\n",
    "# Presolve = 0,\n",
    "#         PreCrush = 1,\n",
    "#         Heuristics = 0,\n",
    "cRefNum = 500 #max(500,3*length(P_set))\n",
    "constr = Array{JuMP.ConstraintRef}(undef, cRefNum)\n",
    "@variable(model, x[1:numArcs], Bin)\n",
    "@variable(model, y[1:numY]>=0)\n",
    "@variable(model, 1>= theta >= 0)#1e6)\n",
    "@objective(model, Min, theta)\n",
    "@constraint(model, sum(d_x[a]*x[a] for a=1:numArcs) <= b_x)\n",
    "con0 = @constraint(model, sum(y[m] for m = 1:numY) == 1)\n",
    "constr[1] = @constraint(model, theta >= sum(q_P1[m]*y[m] for m = 1:numY) - sum(x[a] for a in P_set[1]))\n",
    "# for a in [5, 17, 18, 21]\n",
    "#     @constraint(model, x[a] == 1)\n",
    "# end\n",
    "# @constraint(model, y[numY] == 1)\n",
    "for iter = 1:5\n",
    "#     println(\"A\")\n",
    "    numPaths = length(P_set)\n",
    "    numY = length(M_set)\n",
    "    optimize!(model)\n",
    "    x_sol = JuMP.value.(x)\n",
    "    y_sol = JuMP.value.(y)\n",
    "    theta_sol = JuMP.value.(theta)\n",
    "    c = zeros(numArcs)\n",
    "    M_pos = findall(y_sol.>0)\n",
    "    println(\"\\n\\niter = \", iter, \": theta = \", theta_sol)\n",
    "    println(\"Interdict = \\t\", findall(x_sol.>0),\"\\t\",arcs[findall(x_sol.>0),:])\n",
    "    println(\"y_sol = \\t\", y_sol[M_pos], \"\\t\", M_pos)\n",
    "    println(\"\\t\\t \", M_set[M_pos])\n",
    "    \n",
    "    newPath = false\n",
    "    for rep = 1:5\n",
    "        P, q_P, newPath = rowGen(theta_sol,x_sol,y_sol,P_set, M_set, numPaths, numY, newPath)\n",
    "        if newPath == true\n",
    "            numPaths = numPaths + 1\n",
    "            println(\"\\tP_set = \", P_set)\n",
    "            println(\"\\tAdd Path P = \", P)\n",
    "            push!(P_set, P)\n",
    "            constr[numPaths] = @constraint(model, theta >= sum(q_P[m]*y[m] for m = 1:numY) - sum(x[a] for a in P))\n",
    "        end\n",
    "    end\n",
    "    if newPath == false\n",
    "        print(\"Start colGen\")\n",
    "        M = randMonitor(theta_sol,x_sol,y_sol,P_set, M_set, numPaths, numY)\n",
    "        println(\"new M = \", M)\n",
    "        if isempty(M) == false && (M in M_set) == false\n",
    "            newM = true\n",
    "            numY = numY +1\n",
    "            push!(M_set, M)\n",
    "            new_var = @variable(model, [numY], base_name = \"y\", lower_bound = 0)\n",
    "            push!(y, new_var[numY])\n",
    "            \n",
    "            for i = 1:numPaths\n",
    "                P = P_set[i]\n",
    "                McapP = intersect(P, M)\n",
    "                if length(McapP) > 0\n",
    "                    q_P = prod((1-q[a]) for a in McapP)\n",
    "#                     set_normalized_coefficient(constr[i], new_var[numY], \n",
    "#                         -(1+sum(log10(1-q[a]) for a in McapP) ) )\n",
    "                else\n",
    "                    q_P = 1 \n",
    "                end\n",
    "                set_normalized_coefficient(constr[i], new_var[numY], -q_P)\n",
    "            end\n",
    "            set_normalized_coefficient(con0, new_var[numY], 1)\n",
    "        end\n",
    "        println(\"Complete - colGen\")\n",
    "    end\n",
    "end\n",
    "x_sol = JuMP.value.(x)\n",
    "y_sol = JuMP.value.(y)\n",
    "theta_sol = JuMP.value.(theta)\n",
    "println(\"\\n\\ntheta = \", theta_sol)\n",
    "println(\"x_sol = \", x_sol)\n",
    "M_pos = findall(y_sol.>0)\n",
    "println(\"y_sol = \\t\", y_sol[M_pos])\n",
    "println(\"\\t \", M_set[M_pos])\n"
   ]
  },
  {
   "cell_type": "code",
   "execution_count": 312,
   "metadata": {},
   "outputs": [
    {
     "data": {
      "text/plain": [
       "9-element Array{Float64,1}:\n",
       "  8.0\n",
       "  2.0\n",
       "  3.0\n",
       " 10.0\n",
       "  8.0\n",
       "  9.0\n",
       "  8.0\n",
       "  4.0\n",
       "  6.0"
      ]
     },
     "execution_count": 312,
     "metadata": {},
     "output_type": "execute_result"
    }
   ],
   "source": [
    "# println(\"\\n\\ntheta = \", theta_sol)\n",
    "# println(\"x_sol = \", x_sol)\n",
    "# M_pos = findall(y_sol.>0)\n",
    "# println(\"y_sol = \\t\", y_sol[M_pos])\n",
    "# println(\"\\t \", M_set[M_pos])\n",
    "arcs[[5, 17, 18, 21],:]\n",
    "arcs[[2, 20, 17, 15, 21, 13],:]\n",
    "d_y[[2, 8, 12, 18, 19, 16, 15, 22, 17]]"
   ]
  },
  {
   "cell_type": "code",
   "execution_count": 54,
   "metadata": {},
   "outputs": [
    {
     "data": {
      "text/plain": [
       "206-element Array{Any,1}:\n",
       " [4]                  \n",
       " [10]                 \n",
       " [1, 7]               \n",
       " [1, 20]              \n",
       " [2, 15]              \n",
       " [3, 14]              \n",
       " [5, 11]              \n",
       " [5, 12]              \n",
       " [6, 8]               \n",
       " [6, 9]               \n",
       " [6, 16]              \n",
       " [6, 19]              \n",
       " [7, 17]              \n",
       " ⋮                    \n",
       " [3, 9, 18, 19, 20]   \n",
       " [3, 15, 16, 18, 19]  \n",
       " [3, 16, 18, 19, 20]  \n",
       " [7, 8, 9, 16, 18]    \n",
       " [7, 8, 9, 18, 19]    \n",
       " [7, 8, 16, 18, 19]   \n",
       " [7, 9, 16, 18, 19]   \n",
       " [8, 9, 16, 18, 20]   \n",
       " [8, 9, 18, 19, 20]   \n",
       " [8, 16, 18, 19, 20]  \n",
       " [9, 16, 18, 19, 20]  \n",
       " [3, 8, 9, 16, 18, 19]"
      ]
     },
     "execution_count": 54,
     "metadata": {},
     "output_type": "execute_result"
    }
   ],
   "source": []
  },
  {
   "cell_type": "code",
   "execution_count": 78,
   "metadata": {},
   "outputs": [
    {
     "name": "stdout",
     "output_type": "stream",
     "text": [
      "Any[[6, 8], [6, 9], [6, 16], [6, 19], [3, 6, 18]]\n"
     ]
    }
   ],
   "source": [
    "global EnumY = EnumX(arcs, b_y, numArcs, d_y)\n",
    "global M_set = EnumY\n",
    "a = 6\n",
    "\n",
    "aM = findall((a in M_set[m] for m = 1:numY) .== true)\n",
    "println(M_set[aM])"
   ]
  },
  {
   "cell_type": "code",
   "execution_count": 242,
   "metadata": {},
   "outputs": [
    {
     "data": {
      "text/plain": [
       "4-element Array{Int64,1}:\n",
       " 1\n",
       " 2\n",
       " 4\n",
       " 3"
      ]
     },
     "execution_count": 242,
     "metadata": {},
     "output_type": "execute_result"
    }
   ],
   "source": [
    "M1 = [1,2,4,2,3,4]\n",
    "unique!(M1)\n",
    "# a = [4]\n",
    "# println(M1)\n",
    "# intersect(M1, a)"
   ]
  },
  {
   "cell_type": "code",
   "execution_count": 243,
   "metadata": {},
   "outputs": [
    {
     "name": "stdout",
     "output_type": "stream",
     "text": [
      "[1, 2, 4, 3]\n"
     ]
    }
   ],
   "source": [
    "println(M1)"
   ]
  },
  {
   "cell_type": "code",
   "execution_count": 92,
   "metadata": {},
   "outputs": [
    {
     "name": "stdout",
     "output_type": "stream",
     "text": [
      "[4]\n"
     ]
    }
   ],
   "source": [
    "println(a)"
   ]
  },
  {
   "cell_type": "code",
   "execution_count": 244,
   "metadata": {},
   "outputs": [
    {
     "data": {
      "text/plain": [
       "3-element Array{Int64,1}:\n",
       " 1\n",
       " 4\n",
       " 3"
      ]
     },
     "execution_count": 244,
     "metadata": {},
     "output_type": "execute_result"
    }
   ],
   "source": [
    "M1 = intersect(M1, findall(d_y.<5))"
   ]
  },
  {
   "cell_type": "code",
   "execution_count": 245,
   "metadata": {},
   "outputs": [
    {
     "data": {
      "text/plain": [
       "22-element Array{Float64,1}:\n",
       "  4.0\n",
       "  8.0\n",
       "  4.0\n",
       "  4.0\n",
       "  3.0\n",
       "  7.0\n",
       "  3.0\n",
       "  2.0\n",
       "  2.0\n",
       "  7.0\n",
       "  6.0\n",
       "  3.0\n",
       "  2.0\n",
       "  3.0\n",
       "  8.0\n",
       "  9.0\n",
       "  6.0\n",
       " 10.0\n",
       "  8.0\n",
       "  2.0\n",
       "  6.0\n",
       "  4.0"
      ]
     },
     "execution_count": 245,
     "metadata": {},
     "output_type": "execute_result"
    }
   ],
   "source": [
    "d_y"
   ]
  },
  {
   "cell_type": "code",
   "execution_count": 246,
   "metadata": {},
   "outputs": [
    {
     "name": "stdout",
     "output_type": "stream",
     "text": [
      "[1, 4, 3]\n"
     ]
    }
   ],
   "source": [
    "println(M1)"
   ]
  },
  {
   "cell_type": "code",
   "execution_count": 248,
   "metadata": {},
   "outputs": [
    {
     "data": {
      "text/plain": [
       "2-element Array{Int64,1}:\n",
       " 1\n",
       " 3"
      ]
     },
     "execution_count": 248,
     "metadata": {},
     "output_type": "execute_result"
    }
   ],
   "source": [
    "deleteat!(M1, 2)"
   ]
  },
  {
   "cell_type": "code",
   "execution_count": 269,
   "metadata": {},
   "outputs": [
    {
     "data": {
      "text/plain": [
       "4-element Array{Int64,1}:\n",
       " 2\n",
       " 3\n",
       " 5\n",
       " 6"
      ]
     },
     "execution_count": 269,
     "metadata": {},
     "output_type": "execute_result"
    }
   ],
   "source": [
    "M2= [2,3,5,6]"
   ]
  },
  {
   "cell_type": "code",
   "execution_count": 271,
   "metadata": {},
   "outputs": [
    {
     "data": {
      "text/plain": [
       "6-element Array{Int64,1}:\n",
       " 1\n",
       " 3\n",
       " 2\n",
       " 3\n",
       " 5\n",
       " 6"
      ]
     },
     "execution_count": 271,
     "metadata": {},
     "output_type": "execute_result"
    }
   ],
   "source": [
    "vcat(M1, M2)"
   ]
  },
  {
   "cell_type": "code",
   "execution_count": null,
   "metadata": {},
   "outputs": [],
   "source": []
  }
 ],
 "metadata": {
  "kernelspec": {
   "display_name": "Julia 1.0.5",
   "language": "julia",
   "name": "julia-1.0"
  },
  "language_info": {
   "file_extension": ".jl",
   "mimetype": "application/julia",
   "name": "julia",
   "version": "1.0.5"
  }
 },
 "nbformat": 4,
 "nbformat_minor": 4
}
