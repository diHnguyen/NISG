{
 "cells": [
  {
   "cell_type": "code",
   "execution_count": 1,
   "metadata": {},
   "outputs": [
    {
     "name": "stdout",
     "output_type": "stream",
     "text": [
      "Academic license - for non-commercial use only - expires 2022-12-04\n"
     ]
    },
    {
     "data": {
      "text/plain": [
       "Gurobi.Env(Ptr{Nothing} @0x00000000398743f0, false, 0)"
      ]
     },
     "execution_count": 1,
     "metadata": {},
     "output_type": "execute_result"
    }
   ],
   "source": [
    "using JuMP, Gurobi, Test, Combinatorics, LightGraphs, TimerOutputs\n",
    "const gurobi_env = Gurobi.Env()"
   ]
  },
  {
   "cell_type": "code",
   "execution_count": 41,
   "metadata": {},
   "outputs": [
    {
     "name": "stdout",
     "output_type": "stream",
     "text": [
      "Running...\n",
      "1\n",
      "18.23569299805286\n",
      "Array{Int64,1}[[2]]\n",
      "Array{Int64,1}[[2]]\n"
     ]
    },
    {
     "data": {
      "text/plain": [
       "1-element Array{Any,1}:\n",
       " [0.456]"
      ]
     },
     "execution_count": 41,
     "metadata": {},
     "output_type": "execute_result"
    }
   ],
   "source": [
    "ins = 1#ARGS[1] #:10\n",
    "dataSet = \"N10_d10_\"\n",
    "println(\"Running...\")\n",
    "#     include(\"./TestInstances/\"*fileName*\".jl\")\n",
    "# global q = []\n",
    "include(\"./TestInstances/\"*dataSet*string(ins)*\".jl\")\n",
    "global numArcs = length(arcs[:,1])\n",
    "# include(\"./functionEnumFeasX.jl\")\n",
    "# include(\"./functionFindQ.jl\")\n",
    "include(\"./functionGetCost_SP.jl\")\n",
    "include(\"./functionShortestPathBellmanFord.jl\")\n",
    "# include(\"./functionGenMonitoring.jl\")\n",
    "\n",
    "#This is the better function to find F (or Q)\n",
    "include(\"./functionFindFValues.jl\")\n",
    "\n",
    "#Exact Row Gen:\n",
    "include(\"./functionIP_RowGen.jl\")\n",
    "\n",
    "#Exact Col Gen:\n",
    "include(\"./functionIP_ColGen.jl\")\n",
    "\n",
    "#Approx Col Gen\n",
    "include(\"./functionLP_ColGen.jl\")\n",
    "println(\"1\")\n",
    "include(\"./functionF_SG.jl\")\n",
    "\n",
    "#Q has numPaths elements, each element is of length = numY\n",
    "global F = []\n",
    "# f_MP = findf_MP([1,3], [1,3])\n",
    "# println(f_MP)\n",
    "# break\n",
    "M_start = findall(d_x.<=b_x)\n",
    "global M_set = [[M_start[1]]]#[EnumY[1]] #EnumX(arcs, b_y, numArcs, d_y)\n",
    "global numY = 1 \n",
    "# println(\"1\")\n",
    "path, gx = shortestPath_BellmanFord(q, arcs, numArcs, origin, destination)\n",
    "arcsinPath = findall(path.>0)\n",
    "global P_set = [arcsinPath]\n",
    "global y_sol = []\n",
    "global numPaths = 1\n",
    "global newP = true\n",
    "global newM = true\n",
    "global iter = 0\n",
    "# println(\"1\")\n",
    "global R = sum(-log(1-p[a]) for a = 1:numArcs)\n",
    "println(R)\n",
    "println(P_set)\n",
    "println(M_set)\n",
    "F = updateF(F, P_set, M_set, numY, numPaths)\n"
   ]
  },
  {
   "cell_type": "code",
   "execution_count": 42,
   "metadata": {},
   "outputs": [
    {
     "name": "stdout",
     "output_type": "stream",
     "text": [
      "Academic license - for non-commercial use only - expires 2022-12-04\n",
      "Gurobi Optimizer version 9.1.2 build v9.1.2rc0 (win64)\n",
      "iter 1\n",
      "Thread count: 8 physical cores, 8 logical processors, using up to 8 threads\n",
      "iter 2\n",
      "Optimize a model with 1 rows, 18 columns and 17 nonzeros\n",
      "iter 3\n",
      "Model fingerprint: 0x0ed057c0\n",
      "iter 4\n",
      "Variable types: 1 continuous, 17 integer (17 binary)\n",
      "iter 5\n",
      "Coefficient statistics:\n",
      "iter 6\n",
      "  Matrix range     [1e+00, 1e+01]\n",
      "iter 7\n",
      "  Objective range  [1e+00, 1e+00]\n",
      "iter 8\n",
      "  Bounds range     [0e+00, 0e+00]\n",
      "iter 9\n",
      "  RHS range        [5e+00, 5e+00]\n",
      "iter 10\n",
      "iter 11\n",
      "x_val = Int64[]\t theta_val0.0\n",
      "\t1. Obj_LP = 0.45599999999999996\n"
     ]
    },
    {
     "ename": "UndefVarError",
     "evalue": "\u001b[91mUndefVarError: inner_Obj not defined\u001b[39m",
     "output_type": "error",
     "traceback": [
      "\u001b[91mUndefVarError: inner_Obj not defined\u001b[39m",
      "",
      "Stacktrace:",
      " [1] my_callback_function(::Gurobi.CallbackData, ::Int32) at .\\In[42]:83",
      " [2] (::getfield(Gurobi, Symbol(\"##52#53\")){Gurobi.Optimizer,typeof(my_callback_function)})(::Gurobi.CallbackData, ::Int32) at C:\\Users\\din\\.julia\\packages\\Gurobi\\BAtIN\\src\\MOI_wrapper\\MOI_callbacks.jl:68",
      " [3] _gurobi_callback_wrapper(::Ptr{Nothing}, ::Ptr{Nothing}, ::Int32, ::Ptr{Nothing}) at C:\\Users\\din\\.julia\\packages\\Gurobi\\BAtIN\\src\\MOI_wrapper\\MOI_callbacks.jl:31",
      " [4] GRBoptimize at C:\\Users\\din\\.julia\\packages\\Gurobi\\BAtIN\\src\\gen91\\libgrb_api.jl:282 [inlined]",
      " [5] optimize!(::Gurobi.Optimizer) at C:\\Users\\din\\.julia\\packages\\Gurobi\\BAtIN\\src\\MOI_wrapper\\MOI_wrapper.jl:2671",
      " [6] #optimize!#126(::Bool, ::Bool, ::Base.Iterators.Pairs{Union{},Union{},Tuple{},NamedTuple{(),Tuple{}}}, ::Function, ::Model, ::Nothing) at C:\\Users\\din\\.julia\\packages\\JuMP\\klrjG\\src\\optimizer_interface.jl:185",
      " [7] optimize! at C:\\Users\\din\\.julia\\packages\\JuMP\\klrjG\\src\\optimizer_interface.jl:157 [inlined] (repeats 2 times)",
      " [8] top-level scope at In[42]:105"
     ]
    }
   ],
   "source": [
    "# conRefNum = 20# max(200,2*length(P_set))\n",
    "# con = Array{JuMP.ConstraintRef}(undef, conRefNum)\n",
    "global k = 0\n",
    "global rootOptGap = 0\n",
    "model = direct_model(Gurobi.Optimizer())\n",
    "#     set_optimizer_attribute(model, \"Presolve\", 0)\n",
    "#     set_optimizer_attribute(model, \"Precrush\", 1)\n",
    "#     set_optimizer_attribute(model, \"DualReductions\", 0)\n",
    "#     set_optimizer_attribute(model, \"PreQLinearize\", 0)\n",
    "#     set_optimizer_attribute(model, \"Heuristics\", 0)\n",
    "#     set_optimizer_attribute(model, \"MIPGap\", 0)\n",
    "set_optimizer_attribute(model, \"LazyConstraints\", 1)\n",
    "# set_optimizer_attribute(model, \"OutputFlag\", 0)\n",
    "\n",
    "global loc = \"./Documents/GitHub/UncertainTarget/EnumX_RowCol2ndStage/TestInstances/\"\n",
    "# println(\"LogFile\", loc*dataSet*string(ins)*\".log\")\n",
    "# set_optimizer_attribute(model, \"LogFile\", loc*dataSet*string(ins)*\".log\")\n",
    "# println(\"1\")\n",
    "# Presolve = 0,\n",
    "#         PreCrush = 1,\n",
    "#         Heuristics = 0,\n",
    "\n",
    "@variable(model, x[1:numArcs], Bin)\n",
    "@variable(model, theta >= 0)#1e6)\n",
    "@objective(model, Min, theta)\n",
    "@constraint(model, sum(d_x[a]*x[a] for a=1:numArcs) <= b_x)\n",
    "global last_theta = -1\n",
    "global start = time()\n",
    "cb_calls = Cint[]\n",
    "global MIPGAP = 0\n",
    "# println(\"2\")\n",
    "function my_callback_function(cb_data, cb_where::Cint)\n",
    "    global numArcs, arcs, d_x, q, b_x, origin, destination, R, d_y, b_y, y_sol\n",
    "    global newP, newM, P_set, M_set, numPaths,numY, iter, theta_now, inner_Obj\n",
    "    global k, last_theta\n",
    "    # You can reference variables outside the function as normal\n",
    "    push!(cb_calls, cb_where)\n",
    "    iter += 1\n",
    "    println(\"iter \", iter)\n",
    "    \n",
    "    # You can query a callback attribute using GRBcbget\n",
    "    if cb_where == GRB_CB_MIPSOL #|| cb_where == GRB_CB_MIPNODE\n",
    "        resultP = Ref{Cint}()\n",
    "        GRBcbget(cb_data, cb_where, GRB_CB_MIPNODE_STATUS, resultP) \n",
    "        MIPGAP = 0\n",
    "        if cb_where == GRB_CB_MIPNODE\n",
    "            resultP = Ref{Cdouble}()\n",
    "            GRBcbget(cb_data, cb_where, GRB_CB_MIPNODE_NODCNT, resultP)\n",
    "            node = resultP[]\n",
    "#             println(\"\\n\\tMIPNODE_NODCNT \", node)\n",
    "            if node == 0\n",
    "                resultP = Ref{Cdouble}()\n",
    "                GRBcbget(cb_data, cb_where, GRB_CB_MIPNODE_OBJBST, resultP)\n",
    "                obj = resultP[]\n",
    "#                 println(\"\\tMIPNODE_OBJBST \", obj)\n",
    "                resultP = Ref{Cdouble}()\n",
    "                GRBcbget(cb_data, cb_where, GRB_CB_MIPNODE_OBJBND, resultP)\n",
    "                objBound = resultP[]\n",
    "#                 println(\"\\tMIPNODE_OBJBND \", objBound)\n",
    "                MIPGAP = (obj - objBound)/obj*100\n",
    "#                 println(\"\\tMIPGAP = \", MIPGAP)\n",
    "                if resultP[] != GRB_OPTIMAL\n",
    "                    return  # Solution is something other than optimal.\n",
    "                end\n",
    "            end\n",
    "        end\n",
    "        # Before querying `callback_value`, you must call:\n",
    "        Gurobi.load_callback_variable_primal(cb_data, cb_where)\n",
    "        x_val = callback_value.(Ref(cb_data), x)\n",
    "        theta_val = callback_value(cb_data, theta)\n",
    "        println(\"x_val = \", findall(x_val.>0), \"\\t theta_val\", theta_val)\n",
    "        #Solve sub problem\n",
    "#         println(\"3\")\n",
    "        \n",
    "#         P_set, M_set, lambda, pi_, inner_Obj, y_sol, findF = H_SG(x_val)\n",
    "#         if findF == true\n",
    "#         println(\"preSG\")\n",
    "        lambda, pi_, inner_Obj, y_now = F_SG(x_val)\n",
    "#         println(\"postSG\")\n",
    "#         end\n",
    "        numPaths = length(P_set)\n",
    "        numY = length(M_set)\n",
    "        println(\"\\ninner_Obj = \", inner_Obj)\n",
    "#         println(\"lambda \", lambda)\n",
    "#         println(\"pi_ \", pi_)\n",
    "#     println(\"4\")\n",
    "#         \n",
    "#         println(Q)\n",
    "        TOL = 10^(-5)\n",
    "        if (inner_Obj - theta_val) > TOL  \n",
    "            k+=1 \n",
    "            con_ = @build_constraint(theta >= -sum(lambda[i]*sum(x[a] for a in P_set[i]) for i=1:numPaths) + pi_)\n",
    "#             println(con_)\n",
    "            w_con = MOI.submit(model, MOI.LazyConstraint(cb_data), con_)\n",
    "#                 println(\"Typeof = \", typeof(w_con))\n",
    "#             MOI.set(model, Gurobi.Lazy(), con[k], 2)\n",
    "#             MOI.set(model, Gurobi.ConstraintAttribute(\"lazy\"), con, 2)\n",
    "            end\n",
    "    end\n",
    "    return\n",
    "end\n",
    "#     You _must_ set this parameter if using lazy constraints.\n",
    "MOI.set(model, MOI.RawParameter(\"LazyConstraints\"), 1)\n",
    "MOI.set(model, Gurobi.CallbackFunction(), my_callback_function)\n",
    "optimize!(model)\n",
    "    \n",
    "#     println(model)\n",
    "totalTime = time() - start\n",
    "x_sol = JuMP.value.(x)\n",
    "theta_sol = JuMP.value.(theta)\n",
    "y_pos = findall(y_sol .> 0)\n",
    "nodeCount = MOI.get(model, MOI.NodeCount())\n",
    "\n",
    "#=\n",
    "timesFile = open(loc*\"O_\"*dataSet*string(ins)*\".txt\", \"a\")\n",
    "# println(timesFile, dataSet*prob, \"; Ins \", ins, \"; Time \", totalTime, \"; theta \", theta_sol,\"; x_sol \", findall(x_sol.>0),\"; M_select \", M_set[y_pos], \"; y_sol \", y_sol[y_pos], \"; Iter \", iter, \"; M_len \", length(M_set), \"; P_len \", length(P_set), \"; NodeCount \", nodeCount)\n",
    "println(timesFile, \"dataSet = \", dataSet)\n",
    "println(timesFile, \"ins = \", ins)\n",
    "println(timesFile, \"theta = \", theta_sol)\n",
    "println(timesFile, \"totalTime = \", totalTime)\n",
    "println(timesFile, \"x = \", x_sol)\n",
    "println(timesFile, \"x_i = \", findall(x_sol.>0))\n",
    "println(timesFile, \"y = \", y_sol[y_pos])\n",
    "println(timesFile, \"M_pos = \", M_set[y_pos])\n",
    "println(timesFile, \"M_set = \", M_set)\n",
    "println(timesFile, \"P_set = \", P_set)\n",
    "println(timesFile,\"Node count = \", nodeCount)\n",
    "println(timesFile,\"MIPGAP_root = \", MIPGAP)\n",
    "close(timesFile)\n",
    "=#\n",
    "println(\"dataSet \", dataSet, ins)\n",
    "println(\"x = \", x_sol)\n",
    "println(\"x_i = \", findall(x_sol.>0))\n",
    "println(\"theta = \", theta_sol)\n",
    "println(\"M_set = \", length(M_set))\n",
    "println(\"y = \", y_sol[y_pos])\n",
    "println(\"M_pos = \", M_set[y_pos])\n",
    "println(\"M_set = \", M_set)\n",
    "println(\"P_set = \", P_set)\n",
    "println(\"Node count = \", nodeCount)\n",
    "println(\"MIPGAP_root = \", MIPGAP)"
   ]
  },
  {
   "cell_type": "code",
   "execution_count": 9,
   "metadata": {},
   "outputs": [
    {
     "data": {
      "text/plain": [
       "5×2 Array{Int64,2}:\n",
       " 1  10\n",
       " 2   6\n",
       " 3   9\n",
       " 6   3\n",
       " 9   2"
      ]
     },
     "execution_count": 9,
     "metadata": {},
     "output_type": "execute_result"
    }
   ],
   "source": [
    "P=[5, 6, 12, 21, 31]#[3, 5, 11, 19, 23, 25, 30, 31]\n",
    "arcs[P,:]"
   ]
  },
  {
   "cell_type": "code",
   "execution_count": null,
   "metadata": {
    "jupyter": {
     "source_hidden": true
    }
   },
   "outputs": [],
   "source": [
    "p = 2\n",
    "P1 = [5]\n",
    "p = 14\n",
    "P2 = [1, 6, 9, 15, 19, 21, 24, 28, 29]\n",
    "p = 16\n",
    "P3 = [1, 6, 14, 17, 22, 30]\n",
    "M = [9, 28, 30]\n",
    "McapP3 = intersect(M,P3)\n",
    "McapP2 = intersect(M,P2)\n",
    "McapP1 = intersect(M,P1)\n",
    "# arcs[P3,:]\n",
    "McapP3\n",
    "println(P1)\n",
    "println(prod((1-q[a]) for a in McapP2))"
   ]
  },
  {
   "cell_type": "code",
   "execution_count": null,
   "metadata": {},
   "outputs": [],
   "source": [
    "arcs[McapP3,:]\n",
    "# arcs[P3,:]"
   ]
  },
  {
   "cell_type": "code",
   "execution_count": null,
   "metadata": {},
   "outputs": [],
   "source": [
    "lambda =[0.0, 0.299918, 0.0, 0.0, 0.0, 0.0, 0.0, 0.0, 0.0, 0.0, 0.0, 0.0, 0.0, 0.369929, 0.0, 0.330152, 0.0, 0.0]\n",
    "lambda_pos = [2, 14, 16]\n",
    "lambda[lambda_pos]"
   ]
  },
  {
   "cell_type": "code",
   "execution_count": null,
   "metadata": {},
   "outputs": [],
   "source": [
    "y_pos = [0.313129, 0.01899, 0.2843, 0.303894, 0.0603943, 0.0192918]\n",
    "M_pos = Array{Int64,1}[[5], [3, 13, 18, 25], [18, 20, 30, 33], [13, 20, 28], [9, 28, 30], [18, 19]]\n",
    "p_ =[4, 6, 19, 23, 28, 29]\n",
    "arcs[[4, 6, 19, 23, 28, 29],:]\n",
    "subtour = [6, 19, 23]\n",
    "for M in M_pos\n",
    "#     println(M, \"\\t\", subtour)\n",
    "    Mcaptour = intersect(M, subtour)\n",
    "    println(Mcaptour)\n",
    "end\n",
    "# p_ =[4, 28, 29]\n",
    "# arcs[[4, 28, 29],:]"
   ]
  },
  {
   "cell_type": "code",
   "execution_count": null,
   "metadata": {},
   "outputs": [],
   "source": [
    "tempq = ones(length(y_pos))\n",
    "for m = 1:length(y_pos)\n",
    "    M = M_pos[m]\n",
    "    McapP = intersect(M, p_)\n",
    "    if isempty(McapP) == false\n",
    "        tempq[m] = prod((1-q[a]) for a in McapP) #,\"\\t\",M)\n",
    "    end\n",
    "end\n",
    "println(tempq)"
   ]
  },
  {
   "cell_type": "code",
   "execution_count": null,
   "metadata": {},
   "outputs": [],
   "source": [
    "sum(tempq[m]*y_pos[m] for m = 1:length(y_pos))"
   ]
  },
  {
   "cell_type": "code",
   "execution_count": null,
   "metadata": {},
   "outputs": [],
   "source": [
    "# Test f_s - pi_ = -0.2699193240846611\n",
    "# Col Gen = -0.4048789861269958\t\n",
    "M = [20, 28, 30]\n",
    "f_s = 0.4601613518306735\n",
    "f_val = [1.0 0.256 0.043 0.336 0.564; 0.0 0.0 0.043 0.336 0.0; 0.0 0.0 0.043 0.336 0.0; 0.0 0.256 0.043 0.336 0.564; 0.0 0.0 0.0 0.0 0.564; 0.0 0.0 0.043 0.336 0.0; 0.0 0.0 0.0 0.336 0.564; 0.0 0.256 0.0 0.0 0.564; 0.0 0.0 0.0 0.0 0.0; 1.0 1.0 1.0 1.0 1.0]\n",
    "P_pos = Array{Int64,1}[[5], [1, 17, 30], [1, 6, 13, 14, 21], [1, 6, 11, 14, 21, 28], [1, 17, 20, 27, 29]]\n",
    "# for p in P_pos\n",
    "#    println(arcs[p,:]) \n",
    "# end\n",
    "println(length(P_pos))\n",
    "# p = P_pos[9]\n",
    "# arcs[p,:]\n",
    "for i = 1:length(P_pos)\n",
    "    println(\"Path \", P_pos[i])\n",
    "    println(arcs[P_pos[i],:])\n",
    "    McapP = intersect(P_pos[i],M)\n",
    "    if isempty(McapP) == false\n",
    "        println(\"\\t\",prod((1-q[a]) for a in McapP))\n",
    "    else\n",
    "        println(\"\\t\",1)\n",
    "    end\n",
    "#    println(\"f_\",i,\" = \", f_val[i,1]) \n",
    "end\n",
    "for i = 1:10\n",
    "   println(\"f_\",i, \" = \", f_val[i,3]) \n",
    "end"
   ]
  },
  {
   "cell_type": "code",
   "execution_count": 27,
   "metadata": {},
   "outputs": [
    {
     "name": "stdout",
     "output_type": "stream",
     "text": [
      "[0.99999, 0.0, 0.0, -1.00001e-5, 1.0, 0.0, 1.0, 1.256, 0.0, 1.0]\n",
      "[0.181, 1.0, 0.597, 1.0, 0.063, 1.0, 1.0, 1.0]\n",
      "0.6421834209000001\n",
      "[3, 9]\n",
      "0.403\n"
     ]
    }
   ],
   "source": [
    "# 6. Obj_LP = 0.7082627279667306\n",
    "# y_pos = [0.356212, 0.0302585, 0.173336, 0.020901, 0.0368818, 0.236533, 0.0574318, 0.0884463]\n",
    "# M_pos = Array{Int64,1}[[5], [13, 16, 18, 20, 30], [18, 20, 28], [20, 21], [13, 20, 23, 30], [13, 20, 28, 30], [2, 18, 20], [3, 18, 20, 30]]\n",
    "# # Row Gen: 0.7221695834748441 \t\n",
    "# P = [1, 6, 18, 19, 23]\n",
    "# \t7. Obj_LP = 0.7082627279667306\n",
    "intArcs =[17, 26, 29]\n",
    "v = [-0.0, 0.0, -0.0, 0.0, 1.0, 1.0, -0.0, 0.0, -0.0, 0.0, 0.0, 1.0, -0.0, -0.0, -0.0, -0.0, 0.0, -0.0, 0.0, -0.0, 1.0, -0.0, -0.0, -0.0, -0.0, 0.0, -0.0, 0.0, 0.0, 0.0, 1.0, -0.0, -0.0]\n",
    "y_pos = [0.0138795, 0.177629, 0.0131872, 0.0148205, 0.364071, 0.0895065, 0.17865, 0.148256]\n",
    "M_pos = Array{Int64,1}[[5], [18, 23, 30], [12, 16, 18, 20, 30], [3, 18, 20, 30], [20, 21], [15, 18, 20, 30], [19, 20, 30], [18, 19, 20]]\n",
    "f_s = 0.9886228091428635\n",
    "f_val = [0.181 0.99999 0.99999 0.99999 0.99999 0.99999 0.99999 0.99999; 0.0 -1.0e-5 0.0 0.0 0.0 0.0 0.0 0.0; 0.0 -1.00002e-5 0.0 0.0 0.0 0.0 0.0 0.0; 0.181 -1.00001e-5 -1.00001e-5 -1.00001e-5 -1.00001e-5 -1.00001e-5 -1.00001e-5 1.0; 0.0 0.99999 1.0 1.0 1.0 0.0 1.0 1.0; 0.0 -1.00001e-5 0.0 0.0 0.0 0.0 0.0 0.0; 1.0 0.99999 1.0 1.0 1.0 1.0 1.0 1.0; -0.819008 1.256 1.256 1.256 -1.00001e-5 1.256 1.256 1.99999; 0.0 -1.00003e-5 0.0 0.0 0.0 0.0 0.0 0.0; 1.0 1.0 1.0 1.0 1.0 1.0 1.0 1.0]\n",
    "# Row Gen: 0.9886228091428635 \t\n",
    "P = [5, 6, 12, 21, 31]\n",
    "println(f_val[:,3])\n",
    "q_temp = ones(length(y_pos))\n",
    "for i = 1:length(y_pos)\n",
    "    M = M_pos[i]\n",
    "    McapP = intersect(M, P)\n",
    "    if isempty(McapP) == false\n",
    "       q_temp[i] = prod((1-q[a]) for a in McapP) \n",
    "    end\n",
    "end\n",
    "println(q_temp)\n",
    "println(sum(a for a in q_temp.*y_pos))\n",
    "println(arcs[M_pos[3][1],:])\n",
    "println(q[12])"
   ]
  },
  {
   "cell_type": "code",
   "execution_count": null,
   "metadata": {},
   "outputs": [],
   "source": [
    "arcs[[1, 4, 10, 12],:]"
   ]
  },
  {
   "cell_type": "code",
   "execution_count": null,
   "metadata": {},
   "outputs": [],
   "source": [
    "# p = P_pos[1]\n",
    "arcs[[3, 13, 17, 22, 26, 29],:]"
   ]
  },
  {
   "cell_type": "code",
   "execution_count": null,
   "metadata": {},
   "outputs": [],
   "source": [
    "P_set = Array{Int64,1}[[3, 10, 24], [1, 4, 7, 12, 19], [2, 18, 33], [3, 5, 11, 19, 23, 25, 30, 31], [2, 19], [1, 5, 8, 12, 27, 29], [3, 6, 7, 15, 24], [2, 8, 12, 17, 27, 29], [1, 6], [3, 6, 26, 28], [2, 6, 15], [1, 5, 9, 13, 16, 29, 33], [3, 27], [1, 5, 13, 19, 29], [1, 5, 9, 12, 29, 33], [1, 5, 13, 18, 29, 33], [1, 5, 10, 12, 29], [1, 4, 10, 13, 16], [1, 5, 8, 13, 16, 27, 29], [2, 10, 16], [2, 10, 12, 17, 29], [1, 5, 10, 16, 30], [3, 23, 25, 33], [3, 6, 9, 11, 24, 29, 32], [2, 6, 17, 28], [2, 8, 12, 18, 27, 31], [2, 6, 11, 17, 29], [1, 4, 9, 13, 16, 33], [1, 5, 10, 13, 16, 29], [1, 4, 14, 19, 30], [1, 4, 8, 12, 27], [3, 9, 12, 26, 29, 33], [3, 9, 24, 33]]\n",
    "y_now = [0.0, 0.0, 0.171751, 0.299418, 0.0, 0.0, 0.0, 0.0, 0.0, 0.0, 0.195441, 0.0, 0.0, 0.0, 0.0, 0.0, 0.0, 0.0, 0.0, 0.0, 0.0, 0.0, 0.0, 0.0, 0.0, 0.0, 0.0, 0.0, 0.0, 0.0, 0.0, 0.0, 0.0, 0.0, 0.0, 0.0, 0.33339, 0.0, 0.0, 0.0, 0.0, 0.0, 0.0, 0.0, 0.0, 0.0, 0.0, 0.0, 0.0, 0.0, 0.0]\n",
    "M_set = Array{Int64,1}[[1], [3, 10], [2, 33], [2, 4, 19, 30], [7, 8, 12], [2, 6, 8, 28], [8, 19, 27], [3, 15, 16], [6, 27], [3, 6, 19], [2, 12], [2, 3, 4, 8], [3, 33], [3, 12], [2, 10], [6, 10], [3, 27], [3, 10, 15], [3, 25, 26, 28], [2, 3, 28], [3, 11], [2, 3, 19], [4, 19, 27], [8, 19, 33], [6, 33], [6, 8, 15, 19], [1, 8], [6, 12], [6, 8, 16], [5, 6, 8], [2, 4, 6, 8], [6, 8, 19, 29], [1, 8, 15], [1, 19], [2, 8, 19, 30], [10, 16], [2, 4, 16], [2, 8, 10], [2, 8, 16], [8, 12, 30], [4, 8, 12, 19], [5, 12], [4, 5, 16], [4, 12, 30], [2, 27], [3, 8, 16], [8, 27, 29], [4, 8, 19, 27], [3, 4, 19, 25], [19, 26, 27], [4, 8, 19, 33]]\n",
    "println(\"len P_set = \", length(P_set))\n",
    "println(\"len M_set = \", length(M_set) )"
   ]
  },
  {
   "cell_type": "code",
   "execution_count": null,
   "metadata": {},
   "outputs": [],
   "source": [
    "intArcs =[17, 26, 29]\n",
    "v = [-0.0, 0.0, -0.0, 0.0, 1.0, 1.0, -0.0, 0.0, -0.0, 0.0, 0.0, 1.0, -0.0, -0.0, -0.0, -0.0, 0.0, -0.0, 0.0, -0.0, 1.0, -0.0, -0.0, -0.0, -0.0, 0.0, -0.0, 0.0, 0.0, 0.0, 1.0, -0.0, -0.0]\n",
    "y_pos = [0.0138795, 0.177629, 0.0131872, 0.0148205, 0.364071, 0.0895065, 0.17865, 0.148256]\n",
    "M_pos = Array{Int64,1}[[5], [18, 23, 30], [12, 16, 18, 20, 30], [3, 18, 20, 30], [20, 21], [15, 18, 20, 30], [19, 20, 30], [18, 19, 20]]\n",
    "f_s = 0.9886228091428635\n",
    "f_val = [0.181 0.99999 0.99999 0.99999 0.99999 0.99999 0.99999 0.99999; 0.0 -1.0e-5 0.0 0.0 0.0 0.0 0.0 0.0; 0.0 -1.00002e-5 0.0 0.0 0.0 0.0 0.0 0.0; 0.181 -1.00001e-5 -1.00001e-5 -1.00001e-5 -1.00001e-5 -1.00001e-5 -1.00001e-5 1.0; 0.0 0.99999 1.0 1.0 1.0 0.0 1.0 1.0; 0.0 -1.00001e-5 0.0 0.0 0.0 0.0 0.0 0.0; 1.0 0.99999 1.0 1.0 1.0 1.0 1.0 1.0; -0.819008 1.256 1.256 1.256 -1.00001e-5 1.256 1.256 1.99999; 0.0 -1.00003e-5 0.0 0.0 0.0 0.0 0.0 0.0; 1.0 1.0 1.0 1.0 1.0 1.0 1.0 1.0]\n",
    "# Row Gen: 0.9886228091428635 \t\n",
    "P = [5, 6, 12, 21, 31]\n",
    "\n",
    "y_pos = findall(y_now.>0)\n",
    "M_pos = M_set[y_pos]\n",
    "numPaths = length(P_set)\n",
    "x_val = [3, 5, 6]\n",
    "\n",
    "for P in P_set\n",
    "    RHS = 0\n",
    "    println(\"Path \", P)\n",
    "    if isempty(intersect(P, x_val)) == false\n",
    "        RHS = 0\n",
    "    else\n",
    "        for i = 1:length(y_pos)\n",
    "            M = M_pos[i]\n",
    "#             println(\"\\t\",i,\". M = \", M)\n",
    "            McapP = intersect(M, P)\n",
    "#             println(\"\\t\",McapP)\n",
    "#             println(\"\\t\",q[McapP])\n",
    "            if isempty(McapP) == false\n",
    "                q_temp = prod((1-q[a]) for a in McapP)\n",
    "            else\n",
    "                q_temp = 1\n",
    "            end\n",
    "            RHS = RHS + q_temp*y_now[y_pos[i]]\n",
    "    #         println(\"\\t\", q_temp)\n",
    "        end\n",
    "    end\n",
    "    println(\"\\t\", RHS)\n",
    "end"
   ]
  },
  {
   "cell_type": "code",
   "execution_count": null,
   "metadata": {},
   "outputs": [],
   "source": [
    "q_sum"
   ]
  },
  {
   "cell_type": "code",
   "execution_count": 7,
   "metadata": {},
   "outputs": [
    {
     "name": "stdout",
     "output_type": "stream",
     "text": [
      "Array{Int64,1}[[2]]\n"
     ]
    }
   ],
   "source": [
    "println(P_set)"
   ]
  },
  {
   "cell_type": "code",
   "execution_count": 8,
   "metadata": {},
   "outputs": [
    {
     "data": {
      "text/plain": [
       "4-element Array{Array{Int64,1},1}:\n",
       " [1, 2, 3]\n",
       " [3]      \n",
       " [5, 6]   \n",
       " [1]      "
      ]
     },
     "execution_count": 8,
     "metadata": {},
     "output_type": "execute_result"
    }
   ],
   "source": [
    "a = [[1,2,3],[3],[5,6],[1]]\n"
   ]
  },
  {
   "cell_type": "code",
   "execution_count": 12,
   "metadata": {},
   "outputs": [
    {
     "data": {
      "text/plain": [
       "2-element Array{Int64,1}:\n",
       " 5\n",
       " 6"
      ]
     },
     "execution_count": 12,
     "metadata": {},
     "output_type": "execute_result"
    }
   ],
   "source": [
    "pop!(a)"
   ]
  },
  {
   "cell_type": "code",
   "execution_count": 13,
   "metadata": {},
   "outputs": [
    {
     "data": {
      "text/plain": [
       "2-element Array{Array{Int64,1},1}:\n",
       " [1, 2, 3]\n",
       " [3]      "
      ]
     },
     "execution_count": 13,
     "metadata": {},
     "output_type": "execute_result"
    }
   ],
   "source": [
    "a"
   ]
  },
  {
   "cell_type": "code",
   "execution_count": 14,
   "metadata": {},
   "outputs": [
    {
     "name": "stdout",
     "output_type": "stream",
     "text": [
      "Array{Int64,1}[[1, 2, 3], [3]]\n"
     ]
    }
   ],
   "source": [
    "println(a)"
   ]
  },
  {
   "cell_type": "code",
   "execution_count": null,
   "metadata": {},
   "outputs": [],
   "source": []
  }
 ],
 "metadata": {
  "kernelspec": {
   "display_name": "Julia 1.0.5",
   "language": "julia",
   "name": "julia-1.0"
  },
  "language_info": {
   "file_extension": ".jl",
   "mimetype": "application/julia",
   "name": "julia",
   "version": "1.0.5"
  }
 },
 "nbformat": 4,
 "nbformat_minor": 4
}
